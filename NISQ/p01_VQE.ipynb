{
 "cells": [
  {
   "cell_type": "markdown",
   "metadata": {},
   "source": [
    "## Variational Quantum Eigensolver\n",
    "\n",
    "Source: Coding with Qiskit, S2E4  \n",
    "https://www.youtube.com/watch?v=Z-A6G0WVI9w\n",
    "\n",
    "Code in the video is deprecated. The code in this notebook has been updated and works with qiskit 0.38.0\n",
    "\n",
    "\n",
    "```\n",
    "If we have 3 molecules,\n",
    "A-A\n",
    "B-B\n",
    "A-B\n",
    "And if the ground state energy of A-B is the lowest, then A-A will react with B-B to form A-B\n",
    "\n",
    "The computational cost of such reactions grows exponentially (cannot simulate this classically)\n",
    "\n",
    "We can use QCs to find the ground state\n",
    "\n",
    "We first make an educated guess of a system's wave function, and then vary it until we get a \n",
    "minimum value of the state's energy given the system's Hamiltonian\n",
    "\n",
    "The Hamiltonian operator gives us the total energy of a system\n",
    "\n",
    "The VQE is a hybrid algorithm, where the quantum part computes the energy and the classical\n",
    "part optimizes the variational parameter (theta)\n",
    "\n",
    "Example use case: To compute the interatomic distance of LiH\n",
    "\n",
    "First we need an educated guess of the wave function of the molecule\n",
    "This accounts for the molecules geometry, its orbitals, and the number of electrons involved\n",
    "\n",
    "Then we need to encode this information in the qubits of our QC\n",
    "The energy is a function of some parameter that can be tuned\n",
    "\n",
    "Educated Guess = Ansatz \n",
    "Mapping = The process of encoding the ansatz into the qubits of a QC\n",
    "\n",
    "\n",
    "\n",
    "\n",
    "```"
   ]
  },
  {
   "cell_type": "code",
   "execution_count": 4,
   "metadata": {},
   "outputs": [
    {
     "name": "stdout",
     "output_type": "stream",
     "text": [
      "Defaulting to user installation because normal site-packages is not writeable\n",
      "Collecting pyscf\n",
      "  Downloading pyscf-2.1.1-cp38-cp38-manylinux_2_12_x86_64.manylinux2010_x86_64.whl (38.2 MB)\n",
      "\u001b[2K     \u001b[38;2;114;156;31m━━━━━━━━━━━━━━━━━━━━━━━━━━━━━━━━━━━━━━━━\u001b[0m \u001b[32m38.2/38.2 MB\u001b[0m \u001b[31m1.0 MB/s\u001b[0m eta \u001b[36m0:00:00\u001b[0mm eta \u001b[36m0:00:01\u001b[0m[36m0:00:01\u001b[0mm\n",
      "\u001b[?25hCollecting numpy!=1.16,!=1.17,>=1.13\n",
      "  Downloading numpy-1.23.4-cp38-cp38-manylinux_2_17_x86_64.manylinux2014_x86_64.whl (17.1 MB)\n",
      "\u001b[2K     \u001b[38;2;114;156;31m━━━━━━━━━━━━━━━━━━━━━━━━━━━━━━━━━━━━━━━━\u001b[0m \u001b[32m17.1/17.1 MB\u001b[0m \u001b[31m1.4 MB/s\u001b[0m eta \u001b[36m0:00:00\u001b[0mm eta \u001b[36m0:00:01\u001b[0m[36m0:00:01\u001b[0mm\n",
      "\u001b[?25hCollecting h5py>=2.7\n",
      "  Downloading h5py-3.7.0-cp38-cp38-manylinux_2_12_x86_64.manylinux2010_x86_64.whl (4.5 MB)\n",
      "\u001b[2K     \u001b[38;2;114;156;31m━━━━━━━━━━━━━━━━━━━━━━━━━━━━━━━━━━━━━━━━\u001b[0m \u001b[32m4.5/4.5 MB\u001b[0m \u001b[31m908.5 kB/s\u001b[0m eta \u001b[36m0:00:00\u001b[0mm eta \u001b[36m0:00:01\u001b[0m0:01\u001b[0m:01\u001b[0m\n",
      "\u001b[?25hCollecting scipy!=1.5.0,!=1.5.1\n",
      "  Downloading scipy-1.9.3-cp38-cp38-manylinux_2_17_x86_64.manylinux2014_x86_64.whl (33.8 MB)\n",
      "\u001b[2K     \u001b[38;2;114;156;31m━━━━━━━━━━━━━━━━━━━━━━━━━━━━━━━━━━━━━━━\u001b[0m \u001b[32m33.8/33.8 MB\u001b[0m \u001b[31m808.1 kB/s\u001b[0m eta \u001b[36m0:00:00\u001b[0mm eta \u001b[36m0:00:01\u001b[0m[36m0:00:02\u001b[0m\n",
      "\u001b[?25hInstalling collected packages: numpy, scipy, h5py, pyscf\n",
      "\u001b[33m  WARNING: The scripts f2py, f2py3 and f2py3.8 are installed in '/home/aryaman/.local/bin' which is not on PATH.\n",
      "  Consider adding this directory to PATH or, if you prefer to suppress this warning, use --no-warn-script-location.\u001b[0m\u001b[33m\n",
      "\u001b[0mSuccessfully installed h5py-3.7.0 numpy-1.23.4 pyscf-2.1.1 scipy-1.9.3\n",
      "\n",
      "\u001b[1m[\u001b[0m\u001b[34;49mnotice\u001b[0m\u001b[1;39;49m]\u001b[0m\u001b[39;49m A new release of pip available: \u001b[0m\u001b[31;49m22.2.2\u001b[0m\u001b[39;49m -> \u001b[0m\u001b[32;49m22.3.1\u001b[0m\n",
      "\u001b[1m[\u001b[0m\u001b[34;49mnotice\u001b[0m\u001b[1;39;49m]\u001b[0m\u001b[39;49m To update, run: \u001b[0m\u001b[32;49mpip install --upgrade pip\u001b[0m\n"
     ]
    }
   ],
   "source": [
    "# !pip --version\n",
    "!python3.8 -m pip install pyscf"
   ]
  },
  {
   "cell_type": "code",
   "execution_count": 2,
   "metadata": {},
   "outputs": [
    {
     "name": "stdout",
     "output_type": "stream",
     "text": [
      "Python 3.9.13\n",
      "Collecting qiskit.aqua\n",
      "  Downloading qiskit_aqua-0.9.5-py3-none-any.whl (2.1 MB)\n",
      "\u001b[2K     \u001b[38;2;114;156;31m━━━━━━━━━━━━━━━━━━━━━━━━━━━━━━━━━━━━━━━━\u001b[0m \u001b[32m2.1/2.1 MB\u001b[0m \u001b[31m416.8 kB/s\u001b[0m eta \u001b[36m0:00:00\u001b[0mm eta \u001b[36m0:00:01\u001b[0m[36m0:00:01\u001b[0m\n",
      "\u001b[?25hRequirement already satisfied: sympy>=1.3 in /home/aryaman/.local/lib/python3.9/site-packages (from qiskit.aqua) (1.11.1)\n",
      "Collecting qiskit-ignis>=0.6.0\n",
      "  Downloading qiskit_ignis-0.7.1-py3-none-any.whl (198 kB)\n",
      "\u001b[2K     \u001b[38;2;114;156;31m━━━━━━━━━━━━━━━━━━━━━━━━━━━━━━━━━━━━━\u001b[0m \u001b[32m198.7/198.7 kB\u001b[0m \u001b[31m315.4 kB/s\u001b[0m eta \u001b[36m0:00:00\u001b[0m kB/s\u001b[0m eta \u001b[36m0:00:01\u001b[0m:01\u001b[0m\n",
      "\u001b[?25hCollecting docplex>=2.21.207\n",
      "  Downloading docplex-2.23.222.tar.gz (610 kB)\n",
      "\u001b[2K     \u001b[38;2;114;156;31m━━━━━━━━━━━━━━━━━━━━━━━━━━━━━━━━━━━━━\u001b[0m \u001b[32m610.8/610.8 kB\u001b[0m \u001b[31m270.6 kB/s\u001b[0m eta \u001b[36m0:00:00\u001b[0mm eta \u001b[36m0:00:01\u001b[0m[36m0:00:01\u001b[0m\n",
      "\u001b[?25h  Preparing metadata (setup.py) ... \u001b[?25ldone\n",
      "\u001b[?25hRequirement already satisfied: psutil>=5 in /home/aryaman/.local/lib/python3.9/site-packages (from qiskit.aqua) (5.9.2)\n",
      "Collecting scikit-learn>=0.20.0\n",
      "  Downloading scikit_learn-1.1.3-cp39-cp39-manylinux_2_17_x86_64.manylinux2014_x86_64.whl (30.8 MB)\n",
      "\u001b[2K     \u001b[38;2;249;38;114m━━━━━━━━━━━━━━━━━━━\u001b[0m\u001b[38;2;249;38;114m╸\u001b[0m\u001b[38;5;237m━━━━━━━━━━━━━━━━━━━\u001b[0m \u001b[32m15.5/30.8 MB\u001b[0m \u001b[31m524.0 kB/s\u001b[0m eta \u001b[36m0:00:30\u001b[0m\n",
      "\u001b[?25h\u001b[31mERROR: Wheel 'scikit-learn' located at /tmp/pip-unpack-x82aj84c/scikit_learn-1.1.3-cp39-cp39-manylinux_2_17_x86_64.manylinux2014_x86_64.whl is invalid.\u001b[0m\u001b[31m\n",
      "\u001b[0m"
     ]
    },
    {
     "ename": "ModuleNotFoundError",
     "evalue": "No module named 'qiskit.aqua'",
     "output_type": "error",
     "traceback": [
      "\u001b[0;31m---------------------------------------------------------------------------\u001b[0m",
      "\u001b[0;31mModuleNotFoundError\u001b[0m                       Traceback (most recent call last)",
      "Cell \u001b[0;32mIn [2], line 7\u001b[0m\n\u001b[1;32m      5\u001b[0m \u001b[38;5;28;01mimport\u001b[39;00m \u001b[38;5;21;01mcopy\u001b[39;00m\n\u001b[1;32m      6\u001b[0m \u001b[38;5;28;01mfrom\u001b[39;00m \u001b[38;5;21;01mqiskit\u001b[39;00m \u001b[38;5;28;01mimport\u001b[39;00m BasicAer\n\u001b[0;32m----> 7\u001b[0m \u001b[38;5;28;01mfrom\u001b[39;00m \u001b[38;5;21;01mqiskit\u001b[39;00m\u001b[38;5;21;01m.\u001b[39;00m\u001b[38;5;21;01maqua\u001b[39;00m \u001b[38;5;28;01mimport\u001b[39;00m aqua_globals, QuantumInstance\n\u001b[1;32m      8\u001b[0m \u001b[38;5;28;01mfrom\u001b[39;00m \u001b[38;5;21;01mqiskit\u001b[39;00m\u001b[38;5;21;01m.\u001b[39;00m\u001b[38;5;21;01maqua\u001b[39;00m\u001b[38;5;21;01m.\u001b[39;00m\u001b[38;5;21;01malgorithms\u001b[39;00m \u001b[38;5;28;01mimport\u001b[39;00m NumPyMinimumEigensolver, VQE    \u001b[38;5;66;03m# NumPyMinimumEigensolver will get the energies based off of classical calculuations (benchmark test)\u001b[39;00m\n\u001b[1;32m      9\u001b[0m \u001b[38;5;28;01mfrom\u001b[39;00m \u001b[38;5;21;01mqiskit\u001b[39;00m\u001b[38;5;21;01m.\u001b[39;00m\u001b[38;5;21;01maqua\u001b[39;00m\u001b[38;5;21;01m.\u001b[39;00m\u001b[38;5;21;01mcomponents\u001b[39;00m\u001b[38;5;21;01m.\u001b[39;00m\u001b[38;5;21;01moptimizers\u001b[39;00m \u001b[38;5;28;01mimport\u001b[39;00m SLSQP                \u001b[38;5;66;03m# Classical optimizer that will help update the ansatz\u001b[39;00m\n",
      "\u001b[0;31mModuleNotFoundError\u001b[0m: No module named 'qiskit.aqua'"
     ]
    }
   ],
   "source": [
    "!python --version\n",
    "!pip install qiskit.aqua\n",
    "import numpy as np\n",
    "import pylab\n",
    "import copy\n",
    "\n",
    "\n",
    "\n",
    "from qiskit.aqua.algorithms import NumPyMinimumEigensolver, VQE    # NumPyMinimumEigensolver will get the energies based off of classical calculuations (benchmark test)\n",
    "from qiskit.aqua.components.optimizers import SLSQP                # Classical optimizer that will help update the ansatz\n",
    "from qiskit.chemistry.components.initial_states import HartreeFock # Initial ansatz\n",
    "from qiskit.chemistry.components.variational_forms import UCCSD    # Helps vary the Hartree Fock guess\n",
    "\n",
    "from qiskit.chemistry.drivers import PySCFDriver                   # To set up the molecule\n",
    "from qiskit.chemistry.core import Hamiltonian, QubitMappingType    # To help with the mapping\n",
    "\n",
    "from qiskit import Aer\n",
    "qiskit.utils.algorithm_globals\n",
    "qiskit.utils.QuantumInstance\n",
    "qiskit.algorithms.minimum_eigen_solvers.minimum_eigen_solver.MinimumEigensolver\n",
    "\n",
    "\n",
    "\n",
    "\n",
    "\n",
    "print(\"Complete!\")"
   ]
  },
  {
   "cell_type": "code",
   "execution_count": null,
   "metadata": {},
   "outputs": [],
   "source": [
    "molecule = 'H .0 .0 -{0}; Li .0 .0 {0}' # {0} means that we are varying it along the z axis\n",
    "distances = np.arange(0.5, 4.25, 0.25) # distances in Angstrom\n",
    "vqe_energies = []\n",
    "hf_energies = []\n",
    "exact_energies = []\n",
    "\n",
    "for i, d in enumerate(distances):\n",
    "    print('step: ', i)\n",
    "    \n",
    "    # Set up the experiment\n",
    "    driver = PySCFDriver(molecule.format(d/2), basis='sto3g')\n",
    "    qmolecule = driver.run()\n",
    "    \n",
    "    operator = Hamiltonian(qubit_mapping=QubitMappingType.PARITY, two_qubit_reduction=True, freeze_core=True,\n",
    "                          orbital_reduction=[-3,-2])\n",
    "    \n",
    "    '''\n",
    "    PARITY - ?\n",
    "    two_qubit_reduction - helps speed up the calculuation\n",
    "    freeze_core - freeze the orbitals within the molecule that do not contribute to bonding\n",
    "    orbital_reduction - reduce the orbitals that don't contribute\n",
    "    '''\n",
    "    \n",
    "    qubit_op, aux_ops = operator.run(qmolecule)\n",
    "    \n",
    "    # exact classical result\n",
    "    exact_result = NumPyMinimumEigensolver(qubit_op, aux_operators=aux_ops).run()\n",
    "    exact_result = operator.process_algorith_result(exact_result)\n",
    "    \n",
    "    # VQE\n",
    "    \n",
    "    # Classical optimizer\n",
    "    optimizer = SLSQP(maxiter=1000)\n",
    "    initial_state = HartreeFock(operator.molecule_info['num_orbitals'], \n",
    "                                operator.molecule_info['num_particles'],\n",
    "                                qubit_mapping=operator._qubit_mapping, \n",
    "                                two_qubit_reduction=operator._two_qubit_reduction)\n",
    "    \n",
    "    var_form = UCCSD(num_orbitals=operator.molecule_info['num_orbitals'],\n",
    "                    num_particles=operator.molecule_info['num_particles'],\n",
    "                    initial_state=initial_state,\n",
    "                    qubit_mapping=operator._qubit_mapping,\n",
    "                    two_qubit_reduction=operator._two_qubit_reduction)\n",
    "    \n",
    "    algo = VQE(qubit_op, var_form, optimizer, aux_operators=aux_ops)\n",
    "    \n",
    "    vqe_result = algo.run(QuantumInstance(BasicAer.get_backend('statevector_simulator')))\n",
    "    vqe_result = operator.process_algorithm_result(vqe_result)\n",
    "    \n",
    "    exact_energies.append(exact_result.energy)\n",
    "    vqe_energies.append(vqe_result.energy)\n",
    "    hf_energies.append(vqe_result.hartree_fock_energy)\n",
    "    \n",
    "    \n",
    "    "
   ]
  },
  {
   "cell_type": "code",
   "execution_count": null,
   "metadata": {},
   "outputs": [],
   "source": [
    "pylab.plot(distance, hf_energies, label='Hartree-Fock')\n",
    "pylab.plot(distances, vqe_energies, 'o', label='VQE')\n",
    "pylab.plot(distances, exact_energies, 'x', label='Exact')\n",
    "pylab.xlabel('Interatomic Distance')\n",
    "pylab.ylabel('Energy')\n",
    "pylab.title('LiH Ground State Energy')\n",
    "pylab.legend(loc='upper right')\n"
   ]
  },
  {
   "cell_type": "code",
   "execution_count": null,
   "metadata": {},
   "outputs": [],
   "source": []
  },
  {
   "cell_type": "code",
   "execution_count": null,
   "metadata": {},
   "outputs": [],
   "source": []
  },
  {
   "cell_type": "code",
   "execution_count": null,
   "metadata": {},
   "outputs": [],
   "source": []
  },
  {
   "cell_type": "code",
   "execution_count": null,
   "metadata": {},
   "outputs": [],
   "source": []
  },
  {
   "cell_type": "code",
   "execution_count": null,
   "metadata": {},
   "outputs": [],
   "source": []
  },
  {
   "cell_type": "code",
   "execution_count": null,
   "metadata": {},
   "outputs": [],
   "source": []
  }
 ],
 "metadata": {
  "kernelspec": {
   "display_name": "qubyte-sized-qc",
   "language": "python",
   "name": "qubyte-sized-qc"
  },
  "language_info": {
   "codemirror_mode": {
    "name": "ipython",
    "version": 3
   },
   "file_extension": ".py",
   "mimetype": "text/x-python",
   "name": "python",
   "nbconvert_exporter": "python",
   "pygments_lexer": "ipython3",
   "version": "3.9.13"
  }
 },
 "nbformat": 4,
 "nbformat_minor": 4
}
