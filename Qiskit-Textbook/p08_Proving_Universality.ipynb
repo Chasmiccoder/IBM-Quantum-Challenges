{
 "cells": [
  {
   "cell_type": "markdown",
   "metadata": {},
   "source": [
    "## Proving Universality\n",
    "```\n",
    "If a device can take an arbitrary set of inputs and convert them to output bit strings\n",
    "then it is called Universal\n",
    "```\n",
    "# check?\n",
    "\n",
    "```\n",
    "Multiplying a Ket and a Bra will give you a matrix\n",
    "|0><0| = [1 0]\n",
    "         [0 0]\n",
    "\n",
    "Writing an arbitrary matrix M with outer products of the computational basis, (for 2 qubits)\n",
    "M = [m00 m01] = m00|0><0| + m01|0><1| + m10|1><0| + m11|1><1|\n",
    "    [m10 m11]\n",
    "\n",
    "Generalizes for any number of qubits\n",
    "\n",
    "Unitary Matrix: If U_inverse = U_dag\n",
    "All quantum gates are Unitary, except for measurements and the reset operation\n",
    "\n",
    "Unitary Matrices preserve the inner product space,\n",
    "( <psi0|U_dag )(U |psi1>) = <psi0|U_dag.U|psi1> = <psi0|psi1>\n",
    "```"
   ]
  },
  {
   "cell_type": "code",
   "execution_count": null,
   "metadata": {},
   "outputs": [],
   "source": [
    "```"
   ]
  },
  {
   "cell_type": "code",
   "execution_count": null,
   "metadata": {},
   "outputs": [],
   "source": []
  },
  {
   "cell_type": "code",
   "execution_count": null,
   "metadata": {},
   "outputs": [],
   "source": []
  },
  {
   "cell_type": "code",
   "execution_count": null,
   "metadata": {},
   "outputs": [],
   "source": []
  },
  {
   "cell_type": "code",
   "execution_count": null,
   "metadata": {},
   "outputs": [],
   "source": []
  },
  {
   "cell_type": "code",
   "execution_count": null,
   "metadata": {},
   "outputs": [],
   "source": []
  },
  {
   "cell_type": "code",
   "execution_count": null,
   "metadata": {},
   "outputs": [],
   "source": []
  },
  {
   "cell_type": "code",
   "execution_count": null,
   "metadata": {},
   "outputs": [],
   "source": []
  }
 ],
 "metadata": {
  "kernelspec": {
   "display_name": "venv",
   "language": "python",
   "name": "venv"
  },
  "language_info": {
   "codemirror_mode": {
    "name": "ipython",
    "version": 3
   },
   "file_extension": ".py",
   "mimetype": "text/x-python",
   "name": "python",
   "nbconvert_exporter": "python",
   "pygments_lexer": "ipython3",
   "version": "3.9.13"
  }
 },
 "nbformat": 4,
 "nbformat_minor": 4
}
