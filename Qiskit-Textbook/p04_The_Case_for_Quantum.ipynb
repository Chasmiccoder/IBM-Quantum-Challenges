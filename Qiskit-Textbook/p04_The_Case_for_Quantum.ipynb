{
 "cells": [
  {
   "cell_type": "markdown",
   "metadata": {},
   "source": [
    "## The Case for Quantum\n",
    "\n",
    "```\n",
    "Addition is O(n)\n",
    "\n",
    "Best known classical algo for factorization is O(exp(n^1/3))\n",
    "\n",
    "Complexity of an algorithm depends on the model of computation\n",
    "Examples: Turing Machine, RAM Model (operations like addition and multiplication are primitive)\n",
    "For the most part, the complexity on these models does not differ by much\n",
    "\n",
    "Analog Computers can theoretically solve problems that are intractable for digital computers much faster\n",
    "However, they cannot be realized with \"arbitrarily high precision\"\n",
    "\n",
    "With Quantum Computers, we can figure out global properties of functions\n",
    "Examples: Find x for which f(x) is minimum, find the period of f(.) if it is periodic\n",
    "\n",
    "Note that we cannot evaluate f(.) for all inputs and get their output\n",
    "We can, however, use interference to get some property of f(.)\n",
    "\n",
    "Grover's Search can be used to perform unstructured search in O(root(N)), instead of O(N)\n",
    "Useful in optimization problems and machine learning\n",
    "\n",
    "Short's Algorithm can help factor a number in O(n^3)!\n",
    "\n",
    "```"
   ]
  }
 ],
 "metadata": {
  "kernelspec": {
   "display_name": "venv",
   "language": "python",
   "name": "venv"
  },
  "language_info": {
   "codemirror_mode": {
    "name": "ipython",
    "version": 3
   },
   "file_extension": ".py",
   "mimetype": "text/x-python",
   "name": "python",
   "nbconvert_exporter": "python",
   "pygments_lexer": "ipython3",
   "version": "3.9.13"
  }
 },
 "nbformat": 4,
 "nbformat_minor": 4
}
