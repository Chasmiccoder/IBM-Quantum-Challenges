{
 "cells": [
  {
   "cell_type": "markdown",
   "id": "092e9b19",
   "metadata": {},
   "source": [
    "## Representing Qubit States\n",
    "\n",
    "---\n",
    "\n",
    "### Classical System:\n",
    "Car's position when measured along 1 axis can be denoted as x = 4\n",
    "\n",
    "<img src=\"./resources/i02_classical_car.png\" width=\"40%\"/>\n",
    "\n",
    "Or, it can be described with the statevector |x> with probability amplitudes as the vector's elements\n",
    "\n",
    "<img src=\"./resources/i03_car_statevector.png\" width=\"40%\"/>\n",
    "\n",
    "<br>\n",
    "\n",
    "### Quantum System:\n",
    "A qubit can be in superposition (linear combination) of its basis states (using computational basis states |0> and |1>)\n",
    "\n",
    "<img src=\"./resources/i04_qubit_statevector.png\" width=\"20%\"/>\n",
    "\n",
    "<br>"
   ]
  },
  {
   "cell_type": "code",
   "execution_count": 1,
   "id": "e312a54f",
   "metadata": {},
   "outputs": [
    {
     "name": "stdout",
     "output_type": "stream",
     "text": [
      "Process Complete!\n"
     ]
    }
   ],
   "source": [
    "from qiskit import QuantumCircuit, transpile, Aer\n",
    "from qiskit.visualization import plot_histogram, plot_bloch_vector\n",
    "from math import sqrt, pi\n",
    "\n",
    "print(\"Process Complete!\")"
   ]
  },
  {
   "cell_type": "code",
   "execution_count": 2,
   "id": "180d9df9",
   "metadata": {},
   "outputs": [
    {
     "data": {
      "image/png": "[encoded data removed]",
      "text/plain": [
       "<Figure size 133.526x84.28 with 1 Axes>"
      ]
     },
     "execution_count": 2,
     "metadata": {},
     "output_type": "execute_result"
    }
   ],
   "source": [
    "qc = QuantumCircuit(1)\n",
    "\n",
    "initial_state = [0, 1]  # |1>\n",
    "qc.initialize(initial_state, 0)\n",
    "qc.draw(output='mpl')"
   ]
  },
  {
   "cell_type": "code",
   "execution_count": 3,
   "id": "bfeb6212",
   "metadata": {},
   "outputs": [
    {
     "name": "stdout",
     "output_type": "stream",
     "text": [
      "[0.+0.j 1.+0.j]\n",
      "\n",
      "Process Complete!\n"
     ]
    }
   ],
   "source": [
    "sim = Aer.get_backend('aer_simulator')\n",
    "\n",
    "qc = QuantumCircuit(1)\n",
    "initial_state = [0, 1]\n",
    "qc.initialize(initial_state, 0)\n",
    "qc.save_statevector()\n",
    "\n",
    "\n",
    "qc = transpile(qc, sim)\n",
    "\n",
    "result = sim.run(qc).result()\n",
    "\n",
    "out_state = result.get_statevector()\n",
    "print(out_state)\n",
    "\n",
    "print(\"\\nProcess Complete!\")"
   ]
  },
  {
   "cell_type": "code",
   "execution_count": 4,
   "id": "dd4d4e97",
   "metadata": {},
   "outputs": [
    {
     "data": {
      "image/png": "[encoded data removed]",
      "text/plain": [
       "<Figure size 357.679x144.48 with 1 Axes>"
      ]
     },
     "execution_count": 4,
     "metadata": {},
     "output_type": "execute_result"
    }
   ],
   "source": [
    "qc.measure_all()\n",
    "qc.draw(output='mpl')"
   ]
  },
  {
   "cell_type": "code",
   "execution_count": 5,
   "id": "2edddcdf",
   "metadata": {},
   "outputs": [
    {
     "data": {
      "image/png": "[encoded data removed]",
      "text/plain": [
       "<Figure size 504x360 with 1 Axes>"
      ]
     },
     "execution_count": 5,
     "metadata": {},
     "output_type": "execute_result"
    }
   ],
   "source": [
    "counts = result.get_counts()\n",
    "plot_histogram(counts)  # Get 100% chance of measuring 1 since the qubit was |1>"
   ]
  },
  {
   "cell_type": "code",
   "execution_count": 6,
   "id": "f54b6320",
   "metadata": {},
   "outputs": [
    {
     "name": "stdout",
     "output_type": "stream",
     "text": [
      "[0.70710678+0.j         0.        +0.70710678j]\n",
      "\n",
      "Process Complete!\n"
     ]
    }
   ],
   "source": [
    "# Trying the same for |q0>\n",
    "initial_state = [1 / sqrt(2), 1j / sqrt(2)]\n",
    "\n",
    "qc = QuantumCircuit(1)\n",
    "qc.initialize(initial_state, 0)\n",
    "qc.save_statevector()\n",
    "\n",
    "qc = transpile(qc, sim)\n",
    "result = sim.run(qc).result()\n",
    "\n",
    "out_state = result.get_statevector()\n",
    "print(out_state)\n",
    "\n",
    "print(\"\\nProcess Complete!\")"
   ]
  },
  {
   "cell_type": "code",
   "execution_count": 7,
   "id": "b4156716",
   "metadata": {},
   "outputs": [
    {
     "data": {
      "image/png": "[encoded data removed]",
      "text/plain": [
       "<Figure size 504x360 with 1 Axes>"
      ]
     },
     "execution_count": 7,
     "metadata": {},
     "output_type": "execute_result"
    }
   ],
   "source": [
    "counts = result.get_counts()\n",
    "plot_histogram(counts)  # 50% chance of getting 0, and 50% chance of getting 1"
   ]
  },
  {
   "cell_type": "markdown",
   "id": "ba2c8c35",
   "metadata": {},
   "source": [
    "---\n",
    "### The Rules of Measurement\n",
    "\n",
    "By the Born Rule, the probability of getting $x$ after measuring a qubit in state $|\\psi>$ is given by,\n",
    "\n",
    "$$p(x) = |<x|\\psi>|^2$$\n",
    "\n",
    "Here, if $|\\psi>$ is represented by a column vector with the basis states $x_i$, then $x$ is one of the basis states to which the qubit will collapse to.\n",
    "\n",
    "$|x>$ = Ket of x (Column Vector)  \n",
    "$<x|$ = Bra of x (Row Vector),  \n",
    "such that $<x| = |x>^\\dagger$\n",
    "\n",
    "For example, the probability of measuring $|0>$ when $|\\psi>$ is measured along the computational basis is:  \n",
    "<img src=\"./resources/i05_born_rule_example.png\" width=\"30%\"/>\n",
    "\n",
    "\n"
   ]
  },
  {
   "cell_type": "markdown",
   "id": "e5a96da8",
   "metadata": {},
   "source": [
    "### The Implications of this Rule\n",
    "\n",
    "###### 1) Normalization  \n",
    "The norm of the statevectors has to be 1 to preserve the probabilities.  \n",
    "Therefore,\n",
    "\n",
    "<img src=\"./resources/i06_normalization_condition.png\" width=\"20%\"/>\n",
    "\n",
    "###### 2) Alternative Measurement  \n",
    "Earlier, measurement was done along the computational basis, $\\{|0>, |1>\\}$, but we are not limited to this kind of measurement.\n",
    "Similarly, the statevector $|\\psi>$ can also be described using linear combinations of other basis states.\n",
    "\n",
    "###### 3) Global Phase  \n",
    "We will get $|1>$ 100% of the time when state $|\\psi> = |1>$ is measured along the computational basis.\n",
    "Similarly state $i|1>$ gives us $i|1>$ (and 1 on the classical register), 100% of the time. We get 1 because the imaginary factor disappears after finding the absolute square of the state's probability amplitudes. This implies that both stats $|1>$ and $i|1>$ are physically indistinguishable.  \n",
    "\n",
    "<img src=\"./resources/i07_global_phase.png\" width=\"30%\"/>\n",
    "\n",
    "The factor, $\\gamma$ ($|\\gamma| = 1$), by which a state differs from another state is called the _'global phase'_. Two qubits that differ only by a global phase are physically the same.  \n",
    "\n",
    "Note! Within a qubit, there exists a _'relative phase'_ $\\phi$ which, along with the probability amplitude of $|0>$ (given by $\\theta$) describe a statevector elegantly with a bloch sphere. \n",
    "\n",
    "<img src=\"./resources/i08_bloch_sphere_and_relative_phase.png\" width=\"25%\"/>\n",
    "<img src=\"./resources/i08_bloch_sphere_and_relative_phase_2.png\" width=\"30%\"/>\n",
    "\n",
    "This _relative phase_ is different from the _global phase_ as is local to the qubit under consideration. \n",
    "\n",
    "###### 4) The Observer Effect  \n",
    "\n",
    "The act of measuring changes qubits. If we get $|0>$ after measuring $|\\psi> = \\alpha|0> + \\beta|1>$ then after measuring the qubit again, we'll get $|0>$, 100% of the time. To use qubits effectively, we measure them only when an output is required. This way they get to explore various (complex) states.  \n",
    "\n",
    "<img src=\"./resources/i09_observer_effect.png\" width=\"30%\"/>\n",
    "\n",
    "---"
   ]
  },
  {
   "cell_type": "code",
   "execution_count": 8,
   "id": "1d8f37f2",
   "metadata": {},
   "outputs": [
    {
     "name": "stdout",
     "output_type": "stream",
     "text": [
      "\n",
      "Process Complete!\n"
     ]
    }
   ],
   "source": [
    "# Exercise:\n",
    "# Create 2 Statevectors that will each give a 1/3 probabiltiy of measuring |0>\n",
    "# Verify that the probability of measuring  |1> for these two states is 2/3\n",
    "\n",
    "state1 = [sqrt(1/3), sqrt(2/3)]\n",
    "state2 = [sqrt(1/3), 1j * sqrt(2/3)]\n",
    "\n",
    "def runCircuit(initial_state):\n",
    "    qc = QuantumCircuit(1)\n",
    "    qc.initialize(initial_state, 0)\n",
    "    qc.save_statevector()\n",
    "\n",
    "    qc = transpile(qc, sim)\n",
    "    result = sim.run(qc).result()\n",
    "\n",
    "    out_state = result.get_statevector()\n",
    "\n",
    "    counts = result.get_counts()\n",
    "    return counts\n",
    "\n",
    "\n",
    "counts1 = runCircuit(state1)\n",
    "counts2 = runCircuit(state2)\n",
    "\n",
    "print(\"\\nProcess Complete!\")"
   ]
  },
  {
   "cell_type": "code",
   "execution_count": 9,
   "id": "9680653f",
   "metadata": {},
   "outputs": [
    {
     "data": {
      "image/png": "[encoded data removed]",
      "text/plain": [
       "<Figure size 504x360 with 1 Axes>"
      ]
     },
     "execution_count": 9,
     "metadata": {},
     "output_type": "execute_result"
    }
   ],
   "source": [
    "plot_histogram(counts1)"
   ]
  },
  {
   "cell_type": "code",
   "execution_count": 10,
   "id": "0c14f128",
   "metadata": {},
   "outputs": [
    {
     "data": {
      "image/png": "[encoded data removed]",
      "text/plain": [
       "<Figure size 504x360 with 1 Axes>"
      ]
     },
     "execution_count": 10,
     "metadata": {},
     "output_type": "execute_result"
    }
   ],
   "source": [
    "plot_histogram(counts1)"
   ]
  },
  {
   "cell_type": "code",
   "execution_count": 11,
   "id": "c7354517",
   "metadata": {},
   "outputs": [
    {
     "data": {
      "image/png": "[encoded data removed]",
      "text/plain": [
       "<Figure size 193.726x84.28 with 1 Axes>"
      ]
     },
     "execution_count": 11,
     "metadata": {},
     "output_type": "execute_result"
    }
   ],
   "source": [
    "qc = QuantumCircuit(1)\n",
    "initial_state = [1j / sqrt(2), 1/sqrt(2)]\n",
    "qc.initialize(initial_state, 0)\n",
    "qc.draw(output='mpl')"
   ]
  },
  {
   "cell_type": "markdown",
   "id": "b9ce47f7",
   "metadata": {},
   "source": [
    "The qubit is now in state:\n",
    "\n",
    "<img src=\"./resources/i10_qubit_state.png\" width=\"20%\"/>\n"
   ]
  },
  {
   "cell_type": "code",
   "execution_count": 12,
   "id": "bc77bb75",
   "metadata": {},
   "outputs": [
    {
     "name": "stdout",
     "output_type": "stream",
     "text": [
      "Qubit State:  [0.        +0.70710678j 0.70710678+0.j        ]\n"
     ]
    }
   ],
   "source": [
    "# Verifying the state's wave function:\n",
    "qc.save_statevector()\n",
    "qc = transpile(qc, sim)\n",
    "result = sim.run(qc).result()\n",
    "state = result.get_statevector()\n",
    "print(\"Qubit State: \", state)"
   ]
  },
  {
   "cell_type": "code",
   "execution_count": 13,
   "id": "64d9ff8a",
   "metadata": {},
   "outputs": [
    {
     "data": {
      "image/png": "[encoded data removed]",
      "text/plain": [
       "<Figure size 417.879x144.48 with 1 Axes>"
      ]
     },
     "execution_count": 13,
     "metadata": {},
     "output_type": "execute_result"
    }
   ],
   "source": [
    "# Recreating the circuit and measuring it\n",
    "qc = QuantumCircuit(1)\n",
    "initial_state = [1j / sqrt(2), 1/sqrt(2)]\n",
    "qc.initialize(initial_state, 0)\n",
    "\n",
    "qc.measure_all()\n",
    "qc.save_statevector()\n",
    "qc.draw(output='mpl')"
   ]
  },
  {
   "cell_type": "code",
   "execution_count": 14,
   "id": "c676d73a",
   "metadata": {},
   "outputs": [
    {
     "name": "stdout",
     "output_type": "stream",
     "text": [
      "Qubit State:  [0.+0.j 1.+0.j]\n"
     ]
    }
   ],
   "source": [
    "# The qubit's state after measurement (we will get either 0 or 1 on the classical register)\n",
    "qc = transpile(qc, sim)\n",
    "result = sim.run(qc).result()\n",
    "state = result.get_statevector()\n",
    "print(\"Qubit State: \", state)"
   ]
  },
  {
   "cell_type": "markdown",
   "id": "85d67595",
   "metadata": {},
   "source": [
    "Note how the global phase remains intact! This means that when we measure along $\\{|0>, |1>\\}$ we do not necessarily get exactly $|0>$ or $|1>$. However, this is not quite useful, since it cannot be measured on a real quantum computer (the output that gets registered after measurement is either 0 or 1).  \n",
    "\n",
    "Also, since these are simulators, we can take a peek at the qubits' states at any point in time (with .save_statevector() and .get_statevector()). This is not possible on a real quantum computer."
   ]
  },
  {
   "cell_type": "code",
   "execution_count": null,
   "id": "eefaadd6",
   "metadata": {},
   "outputs": [],
   "source": []
  },
  {
   "cell_type": "code",
   "execution_count": null,
   "id": "fbd9ba89",
   "metadata": {},
   "outputs": [],
   "source": []
  },
  {
   "cell_type": "code",
   "execution_count": null,
   "id": "040948c5",
   "metadata": {},
   "outputs": [],
   "source": []
  }
 ],
 "metadata": {
  "kernelspec": {
   "display_name": "Python 3",
   "language": "python",
   "name": "python3"
  },
  "language_info": {
   "codemirror_mode": {
    "name": "ipython",
    "version": 3
   },
   "file_extension": ".py",
   "mimetype": "text/x-python",
   "name": "python",
   "nbconvert_exporter": "python",
   "pygments_lexer": "ipython3",
   "version": "3.8.8"
  }
 },
 "nbformat": 4,
 "nbformat_minor": 5
}
