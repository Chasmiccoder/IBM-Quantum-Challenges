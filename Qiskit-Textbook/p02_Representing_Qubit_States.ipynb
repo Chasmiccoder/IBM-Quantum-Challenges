{
 "cells": [
  {
   "cell_type": "markdown",
   "id": "092e9b19",
   "metadata": {},
   "source": [
    "## Representing Qubit States\n",
    "\n",
    "---\n",
    "\n",
    "### Classical System:\n",
    "Car's position when measured along 1 axis can be denoted as x = 4\n",
    "\n",
    "<img src=\"./resources/i02_classical_car.png\" width=\"40%\"/>\n",
    "\n",
    "Or, it can be described with the statevector |x> with probability amplitudes as the vector's elements\n",
    "\n",
    "<img src=\"./resources/i03_car_statevector.png\" width=\"40%\"/>\n",
    "\n",
    "<br>\n",
    "\n",
    "### Quantum System:\n",
    "A qubit can be in superposition (linear combination) of its basis states (using computational basis states |0> and |1>)\n",
    "\n",
    "<img src=\"./resources/i04_qubit_statevector.png\" width=\"20%\"/>\n",
    "\n",
    "<br>"
   ]
  },
  {
   "cell_type": "code",
   "execution_count": 5,
   "id": "e312a54f",
   "metadata": {},
   "outputs": [
    {
     "name": "stdout",
     "output_type": "stream",
     "text": [
      "Process Complete!\n"
     ]
    }
   ],
   "source": [
    "from qiskit import QuantumCircuit, transpile, Aer\n",
    "from qiskit.visualization import plot_histogram, plot_bloch_vector\n",
    "from math import sqrt, pi\n",
    "\n",
    "print(\"Process Complete!\")"
   ]
  },
  {
   "cell_type": "code",
   "execution_count": 6,
   "id": "180d9df9",
   "metadata": {},
   "outputs": [
    {
     "data": {
      "image/png": "[encoded data removed]",
      "text/plain": [
       "<Figure size 133.526x84.28 with 1 Axes>"
      ]
     },
     "execution_count": 6,
     "metadata": {},
     "output_type": "execute_result"
    }
   ],
   "source": [
    "qc = QuantumCircuit(1)\n",
    "\n",
    "initial_state = [0, 1]  # |1>\n",
    "qc.initialize(initial_state, 0)\n",
    "qc.draw(output='mpl')"
   ]
  },
  {
   "cell_type": "code",
   "execution_count": 7,
   "id": "bfeb6212",
   "metadata": {},
   "outputs": [
    {
     "name": "stdout",
     "output_type": "stream",
     "text": [
      "[0.+0.j 1.+0.j]\n",
      "\n",
      "Process Complete!\n"
     ]
    }
   ],
   "source": [
    "sim = Aer.get_backend('aer_simulator')\n",
    "\n",
    "qc = QuantumCircuit(1)\n",
    "initial_state = [0, 1]\n",
    "qc.initialize(initial_state, 0)\n",
    "qc.save_statevector()\n",
    "\n",
    "\n",
    "qc = transpile(qc, sim)\n",
    "\n",
    "result = sim.run(qc).result()\n",
    "\n",
    "out_state = result.get_statevector()\n",
    "print(out_state)\n",
    "\n",
    "print(\"\\nProcess Complete!\")"
   ]
  },
  {
   "cell_type": "code",
   "execution_count": 9,
   "id": "dd4d4e97",
   "metadata": {},
   "outputs": [
    {
     "data": {
      "image/png": "[encoded data removed]",
      "text/plain": [
       "<Figure size 491.059x204.68 with 1 Axes>"
      ]
     },
     "execution_count": 9,
     "metadata": {},
     "output_type": "execute_result"
    }
   ],
   "source": [
    "qc.measure_all()\n",
    "qc.draw(output='mpl')"
   ]
  },
  {
   "cell_type": "code",
   "execution_count": 10,
   "id": "2edddcdf",
   "metadata": {},
   "outputs": [
    {
     "data": {
      "image/png": "[encoded data removed]",
      "text/plain": [
       "<Figure size 504x360 with 1 Axes>"
      ]
     },
     "execution_count": 10,
     "metadata": {},
     "output_type": "execute_result"
    }
   ],
   "source": [
    "counts = result.get_counts()\n",
    "plot_histogram(counts)  # Get 100% chance of measuring 1 since the qubit was |1>"
   ]
  },
  {
   "cell_type": "code",
   "execution_count": 11,
   "id": "f54b6320",
   "metadata": {},
   "outputs": [
    {
     "name": "stdout",
     "output_type": "stream",
     "text": [
      "[0.70710678+0.j         0.        +0.70710678j]\n",
      "\n",
      "Process Complete!\n"
     ]
    }
   ],
   "source": [
    "# Trying the same for |q0>\n",
    "initial_state = [1 / sqrt(2), 1j / sqrt(2)]\n",
    "\n",
    "qc = QuantumCircuit(1)\n",
    "qc.initialize(initial_state, 0)\n",
    "qc.save_statevector()\n",
    "\n",
    "qc = transpile(qc, sim)\n",
    "result = sim.run(qc).result()\n",
    "\n",
    "out_state = result.get_statevector()\n",
    "print(out_state)\n",
    "\n",
    "print(\"\\nProcess Complete!\")"
   ]
  },
  {
   "cell_type": "code",
   "execution_count": 12,
   "id": "b4156716",
   "metadata": {},
   "outputs": [
    {
     "data": {
      "image/png": "[encoded data removed]",
      "text/plain": [
       "<Figure size 504x360 with 1 Axes>"
      ]
     },
     "execution_count": 12,
     "metadata": {},
     "output_type": "execute_result"
    }
   ],
   "source": [
    "counts = result.get_counts()\n",
    "plot_histogram(counts)  # 50% chance of getting 0, and 50% chance of getting 1"
   ]
  },
  {
   "cell_type": "markdown",
   "id": "ba2c8c35",
   "metadata": {},
   "source": [
    "---\n",
    "### The Rules of Measurement\n",
    "\n",
    "By the Born Rule, the probability of getting $x$ after measuring a qubit in state $|\\psi>$ is given by,\n",
    "\n",
    "$$p(x) = |<x|\\psi>|^2$$\n",
    "\n",
    "Here, if $|\\psi>$ is represented by a column vector with the basis states $x_i$, then $x$ is one of the basis states to which the qubit will collapse to.\n",
    "\n",
    "$|x>$ = Ket of x (Column Vector)  \n",
    "$<x|$ = Bra of x (Row Vector),  \n",
    "such that $<x| = |x>^\\dagger$\n",
    "\n",
    "For example, the probability of measuring $|0>$ when $|\\psi>$ is measured along the computational basis is:  \n",
    "<img src=\"./resources/i05_born_rule_example.png\" width=\"30%\"/>\n",
    "\n",
    "\n"
   ]
  },
  {
   "cell_type": "code",
   "execution_count": null,
   "id": "b39fd671",
   "metadata": {},
   "outputs": [],
   "source": [
    "### The Implications of this Rule"
   ]
  },
  {
   "cell_type": "code",
   "execution_count": null,
   "id": "1d8f37f2",
   "metadata": {},
   "outputs": [],
   "source": []
  },
  {
   "cell_type": "code",
   "execution_count": null,
   "id": "9680653f",
   "metadata": {},
   "outputs": [],
   "source": []
  },
  {
   "cell_type": "code",
   "execution_count": null,
   "id": "0c14f128",
   "metadata": {},
   "outputs": [],
   "source": []
  }
 ],
 "metadata": {
  "kernelspec": {
   "display_name": "Python 3",
   "language": "python",
   "name": "python3"
  },
  "language_info": {
   "codemirror_mode": {
    "name": "ipython",
    "version": 3
   },
   "file_extension": ".py",
   "mimetype": "text/x-python",
   "name": "python",
   "nbconvert_exporter": "python",
   "pygments_lexer": "ipython3",
   "version": "3.8.8"
  }
 },
 "nbformat": 4,
 "nbformat_minor": 5
}
