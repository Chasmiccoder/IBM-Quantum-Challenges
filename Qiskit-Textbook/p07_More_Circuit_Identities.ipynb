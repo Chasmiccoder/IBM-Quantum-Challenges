{
 "cells": [
  {
   "cell_type": "markdown",
   "metadata": {},
   "source": [
    "## More Circuit Identities"
   ]
  },
  {
   "cell_type": "code",
   "execution_count": 2,
   "metadata": {},
   "outputs": [],
   "source": [
    "from qiskit import QuantumCircuit, Aer, assemble\n",
    "from qiskit.visualization import array_to_latex\n",
    "from qiskit.circuit import Gate\n",
    "from math import pi\n",
    "c = 0 # control qubit\n",
    "t = 1 # target  qubit"
   ]
  },
  {
   "cell_type": "markdown",
   "metadata": {},
   "source": [
    "```\n",
    "We might not always be able to implement more complicated gates from scratch\n",
    "which is why we use simpler gates and their identities to construct these gates\n",
    "```\n",
    "---"
   ]
  },
  {
   "cell_type": "markdown",
   "metadata": {},
   "source": [
    "```\n",
    "Making Controlled Z from CNOT\n",
    "HXH = Z\n",
    "\n",
    "Therefore,\n",
    "\n",
    "(I (*) H) CNOT (I (*) H) = CZ\n",
    "```"
   ]
  },
  {
   "cell_type": "code",
   "execution_count": 4,
   "metadata": {},
   "outputs": [
    {
     "data": {
      "text/html": [
       "<pre style=\"word-wrap: normal;white-space: pre;background: #fff0;line-height: 1.1;font-family: &quot;Courier New&quot;,Courier,monospace\">                    \n",
       "q_0: ───────■───────\n",
       "     ┌───┐┌─┴─┐┌───┐\n",
       "q_1: ┤ H ├┤ X ├┤ H ├\n",
       "     └───┘└───┘└───┘</pre>"
      ],
      "text/plain": [
       "                    \n",
       "q_0: ───────■───────\n",
       "     ┌───┐┌─┴─┐┌───┐\n",
       "q_1: ┤ H ├┤ X ├┤ H ├\n",
       "     └───┘└───┘└───┘"
      ]
     },
     "execution_count": 4,
     "metadata": {},
     "output_type": "execute_result"
    }
   ],
   "source": [
    "qc = QuantumCircuit(2)\n",
    "qc.h(t)\n",
    "qc.cx(c, t)\n",
    "qc.h(t)\n",
    "qc.draw()"
   ]
  },
  {
   "cell_type": "code",
   "execution_count": 5,
   "metadata": {},
   "outputs": [
    {
     "data": {
      "text/html": [
       "<pre style=\"word-wrap: normal;white-space: pre;background: #fff0;line-height: 1.1;font-family: &quot;Courier New&quot;,Courier,monospace\">                      \n",
       "q_0: ─────────■───────\n",
       "     ┌─────┐┌─┴─┐┌───┐\n",
       "q_1: ┤ Sdg ├┤ X ├┤ S ├\n",
       "     └─────┘└───┘└───┘</pre>"
      ],
      "text/plain": [
       "                      \n",
       "q_0: ─────────■───────\n",
       "     ┌─────┐┌─┴─┐┌───┐\n",
       "q_1: ┤ Sdg ├┤ X ├┤ S ├\n",
       "     └─────┘└───┘└───┘"
      ]
     },
     "execution_count": 5,
     "metadata": {},
     "output_type": "execute_result"
    }
   ],
   "source": [
    "# The same could be done on CNOT to get any rotation by pi\n",
    "# Controlled Y using CNOT\n",
    "qc = QuantumCircuit(2)\n",
    "qc.sdg(t)\n",
    "qc.cx(c,t)\n",
    "qc.s(t)\n",
    "qc.draw()"
   ]
  },
  {
   "cell_type": "code",
   "execution_count": 16,
   "metadata": {},
   "outputs": [
    {
     "data": {
      "text/html": [
       "<pre style=\"word-wrap: normal;white-space: pre;background: #fff0;line-height: 1.1;font-family: &quot;Courier New&quot;,Courier,monospace\">                                 \n",
       "q_0: ─────────────■──────────────\n",
       "     ┌─────────┐┌─┴─┐┌──────────┐\n",
       "q_1: ┤ Ry(π/4) ├┤ X ├┤ Ry(-π/4) ├\n",
       "     └─────────┘└───┘└──────────┘</pre>"
      ],
      "text/plain": [
       "                                 \n",
       "q_0: ─────────────■──────────────\n",
       "     ┌─────────┐┌─┴─┐┌──────────┐\n",
       "q_1: ┤ Ry(π/4) ├┤ X ├┤ Ry(-π/4) ├\n",
       "     └─────────┘└───┘└──────────┘"
      ]
     },
     "metadata": {},
     "output_type": "display_data"
    },
    {
     "data": {
      "text/latex": [
       "$$\n",
       "\\text{Circuit = }\n",
       "\n",
       "\\begin{bmatrix}\n",
       "1 & 0 & 0 & 0  \\\\\n",
       " 0 & \\tfrac{1}{\\sqrt{2}} & 0 & \\tfrac{1}{\\sqrt{2}}  \\\\\n",
       " 0 & 0 & 1 & 0  \\\\\n",
       " 0 & \\tfrac{1}{\\sqrt{2}} & 0 & -\\tfrac{1}{\\sqrt{2}}  \\\\\n",
       " \\end{bmatrix}\n",
       "$$"
      ],
      "text/plain": [
       "<IPython.core.display.Latex object>"
      ]
     },
     "metadata": {},
     "output_type": "display_data"
    }
   ],
   "source": [
    "# Controlled H using CNOT\n",
    "# Verifying the above with qiskit\n",
    "qc = QuantumCircuit(2)\n",
    "qc.ry(pi/4,t)\n",
    "qc.cx(c,t)\n",
    "qc.ry(-pi/4,t)\n",
    "display(qc.draw()) \n",
    "\n",
    "usim = Aer.get_backend('aer_simulator')\n",
    "qc.save_unitary()\n",
    "\n",
    "qobj = assemble(qc)\n",
    "unitary = usim.run(qobj).result().get_unitary()\n",
    "display(array_to_latex(unitary, prefix=\"\\\\text{Circuit = }\\n\"))"
   ]
  },
  {
   "cell_type": "code",
   "execution_count": 18,
   "metadata": {},
   "outputs": [
    {
     "data": {
      "text/html": [
       "<pre style=\"word-wrap: normal;white-space: pre;background: #fff0;line-height: 1.1;font-family: &quot;Courier New&quot;,Courier,monospace\">        \n",
       "q_0: ─X─\n",
       "      │ \n",
       "q_1: ─X─\n",
       "        </pre>"
      ],
      "text/plain": [
       "        \n",
       "q_0: ─X─\n",
       "      │ \n",
       "q_1: ─X─\n",
       "        "
      ]
     },
     "metadata": {},
     "output_type": "display_data"
    },
    {
     "data": {
      "text/latex": [
       "$$\n",
       "\\text{Circuit = }\n",
       "\n",
       "\\begin{bmatrix}\n",
       "1 & 0 & 0 & 0  \\\\\n",
       " 0 & 0 & 1 & 0  \\\\\n",
       " 0 & 1 & 0 & 0  \\\\\n",
       " 0 & 0 & 0 & 1  \\\\\n",
       " \\end{bmatrix}\n",
       "$$"
      ],
      "text/plain": [
       "<IPython.core.display.Latex object>"
      ]
     },
     "metadata": {},
     "output_type": "display_data"
    },
    {
     "data": {
      "text/html": [
       "<pre style=\"word-wrap: normal;white-space: pre;background: #fff0;line-height: 1.1;font-family: &quot;Courier New&quot;,Courier,monospace\">          ┌───┐     \n",
       "q_0: ──■──┤ X ├──■──\n",
       "     ┌─┴─┐└─┬─┘┌─┴─┐\n",
       "q_1: ┤ X ├──■──┤ X ├\n",
       "     └───┘     └───┘</pre>"
      ],
      "text/plain": [
       "          ┌───┐     \n",
       "q_0: ──■──┤ X ├──■──\n",
       "     ┌─┴─┐└─┬─┘┌─┴─┐\n",
       "q_1: ┤ X ├──■──┤ X ├\n",
       "     └───┘     └───┘"
      ]
     },
     "metadata": {},
     "output_type": "display_data"
    },
    {
     "data": {
      "text/latex": [
       "$$\n",
       "\\text{Circuit = }\n",
       "\n",
       "\\begin{bmatrix}\n",
       "1 & 0 & 0 & 0  \\\\\n",
       " 0 & 0 & 1 & 0  \\\\\n",
       " 0 & 1 & 0 & 0  \\\\\n",
       " 0 & 0 & 0 & 1  \\\\\n",
       " \\end{bmatrix}\n",
       "$$"
      ],
      "text/plain": [
       "<IPython.core.display.Latex object>"
      ]
     },
     "execution_count": 18,
     "metadata": {},
     "output_type": "execute_result"
    }
   ],
   "source": [
    "# Verifying the above with qiskit\n",
    "qc = QuantumCircuit(2)\n",
    "qc.swap(0,1)\n",
    "display(qc.draw()) \n",
    "\n",
    "qc.save_unitary()\n",
    "usim = Aer.get_backend('aer_simulator')\n",
    "qobj = assemble(qc)\n",
    "unitary = usim.run(qobj).result().get_unitary()\n",
    "display(array_to_latex(unitary, prefix=\"\\\\text{Circuit = }\\n\"))\n",
    "\n",
    "qc = QuantumCircuit(2)\n",
    "qc.cx(0,1)\n",
    "qc.cx(1,0)\n",
    "qc.cx(0,1)\n",
    "display(qc.draw())\n",
    "qc.save_unitary()\n",
    "\n",
    "qobj = assemble(qc)\n",
    "unitary = usim.run(qobj).result().get_unitary()\n",
    "array_to_latex(unitary, prefix=\"\\\\text{Circuit = }\\n\")"
   ]
  },
  {
   "cell_type": "markdown",
   "metadata": {},
   "source": [
    "```\n",
    "This works for states |00>, |01>, |10>, |11> and if it works\n",
    "on for all states in the computational basis, then it must work\n",
    "for all states generally\n",
    "```"
   ]
  },
  {
   "cell_type": "code",
   "execution_count": 27,
   "metadata": {},
   "outputs": [
    {
     "data": {
      "text/html": [
       "<pre style=\"word-wrap: normal;white-space: pre;background: #fff0;line-height: 1.1;font-family: &quot;Courier New&quot;,Courier,monospace\">                                      \n",
       "q_0: ─────────────■────────────────■──\n",
       "     ┌─────────┐┌─┴─┐┌──────────┐┌─┴─┐\n",
       "q_1: ┤ Ry(π/2) ├┤ X ├┤ Ry(-π/2) ├┤ X ├\n",
       "     └─────────┘└───┘└──────────┘└───┘</pre>"
      ],
      "text/plain": [
       "                                      \n",
       "q_0: ─────────────■────────────────■──\n",
       "     ┌─────────┐┌─┴─┐┌──────────┐┌─┴─┐\n",
       "q_1: ┤ Ry(π/2) ├┤ X ├┤ Ry(-π/2) ├┤ X ├\n",
       "     └─────────┘└───┘└──────────┘└───┘"
      ]
     },
     "metadata": {},
     "output_type": "display_data"
    },
    {
     "data": {
      "text/latex": [
       "$$\n",
       "\\text{Circuit = }\n",
       "\n",
       "\\begin{bmatrix}\n",
       "1 & 0 & 0 & 0  \\\\\n",
       " 0 & 0 & 0 & -1  \\\\\n",
       " 0 & 0 & 1 & 0  \\\\\n",
       " 0 & 1 & 0 & 0  \\\\\n",
       " \\end{bmatrix}\n",
       "$$"
      ],
      "text/plain": [
       "<IPython.core.display.Latex object>"
      ]
     },
     "metadata": {},
     "output_type": "display_data"
    }
   ],
   "source": [
    "# Controlled Rotation around the y axis\n",
    "theta = pi # can be any arbitrary angle\n",
    "\n",
    "qc = QuantumCircuit(2)\n",
    "qc.ry(theta/2, t)\n",
    "qc.cx(c,t)\n",
    "qc.ry(-theta/2, t)\n",
    "qc.cx(c, t)\n",
    "display(qc.draw()) \n",
    "\n",
    "qc.save_unitary()\n",
    "usim = Aer.get_backend('aer_simulator')\n",
    "qobj = assemble(qc)\n",
    "unitary = usim.run(qobj).result().get_unitary()\n",
    "display(array_to_latex(unitary, prefix=\"\\\\text{Circuit = }\\n\"))"
   ]
  },
  {
   "cell_type": "markdown",
   "metadata": {},
   "source": [
    "```\n",
    "If the control qubit is |0>, then Ry(theta/2) and then Ry(-theta/2) get applied, \n",
    "which doesn't change the target qubit\n",
    "If the control qubit is |1>, then the qubit rotates by theta/2 about y, and then flipped\n",
    "about x by pi, then rotated by -theta/2 about y, and then flipped about x by pi again\n",
    "(use a pencil and perform the rotations)\n",
    "This is the same as rotating about Ry by theta/2 and then making that same rotation again\n",
    "(and thus achieving a net rotation about y by theta)\n",
    "\n",
    "The X gates effectively flip the direction of rotation (possible because x and y are orthogonal)\n",
    "\n",
    "We can do something similar for Controlled-Rz and Controlled-Rx as well\n",
    "```"
   ]
  },
  {
   "cell_type": "code",
   "execution_count": 29,
   "metadata": {},
   "outputs": [
    {
     "data": {
      "text/html": [
       "<pre style=\"word-wrap: normal;white-space: pre;background: #fff0;line-height: 1.1;font-family: &quot;Courier New&quot;,Courier,monospace\">                     ┌──────┐\n",
       "q_0: ──────■───────■─┤ P(1) ├\n",
       "     ┌───┐ │ ┌───┐ │ └┬───┬─┘\n",
       "q_1: ┤ C ├─■─┤ B ├─■──┤ A ├──\n",
       "     └───┘   └───┘    └───┘  </pre>"
      ],
      "text/plain": [
       "                     ┌──────┐\n",
       "q_0: ──────■───────■─┤ P(1) ├\n",
       "     ┌───┐ │ ┌───┐ │ └┬───┬─┘\n",
       "q_1: ┤ C ├─■─┤ B ├─■──┤ A ├──\n",
       "     └───┘   └───┘    └───┘  "
      ]
     },
     "execution_count": 29,
     "metadata": {},
     "output_type": "execute_result"
    }
   ],
   "source": [
    "# For a general single qubit rotation V, find 3 rotations, A, B, and C and a phase alpha, such that\n",
    "# V = e^(i*alpha) AZBZC\n",
    "# Then use controlled-Z for when the control qubit is |0>, and controlled-Z again for when the control qubit is |1>\n",
    "\n",
    "A = Gate('A', 1, [])\n",
    "B = Gate('B', 1, [])\n",
    "C = Gate('C', 1, [])\n",
    "alpha = 1\n",
    "\n",
    "qc = QuantumCircuit(2)\n",
    "qc.append(C, [t])\n",
    "qc.cz(c,t)\n",
    "qc.append(B, [t])\n",
    "qc.cz(c,t)\n",
    "qc.append(A, [t])\n",
    "qc.p(alpha, c)\n",
    "qc.draw()"
   ]
  },
  {
   "cell_type": "code",
   "execution_count": 40,
   "metadata": {},
   "outputs": [
    {
     "data": {
      "text/html": [
       "<pre style=\"word-wrap: normal;white-space: pre;background: #fff0;line-height: 1.1;font-family: &quot;Courier New&quot;,Courier,monospace\">          \n",
       "q_0: ──■──\n",
       "       │  \n",
       "q_1: ──■──\n",
       "     ┌─┴─┐\n",
       "q_2: ┤ X ├\n",
       "     └───┘</pre>"
      ],
      "text/plain": [
       "          \n",
       "q_0: ──■──\n",
       "       │  \n",
       "q_1: ──■──\n",
       "     ┌─┴─┐\n",
       "q_2: ┤ X ├\n",
       "     └───┘"
      ]
     },
     "metadata": {},
     "output_type": "display_data"
    },
    {
     "data": {
      "text/latex": [
       "$$\n",
       "\\text{Circuit = }\n",
       "\n",
       "\\begin{bmatrix}\n",
       "1 & 0 & 0 & 0 & 0 & 0 & 0 & 0  \\\\\n",
       " 0 & 1 & 0 & 0 & 0 & 0 & 0 & 0  \\\\\n",
       " 0 & 0 & 1 & 0 & 0 & 0 & 0 & 0  \\\\\n",
       " 0 & 0 & 0 & 0 & 0 & 0 & 0 & 1  \\\\\n",
       " 0 & 0 & 0 & 0 & 1 & 0 & 0 & 0  \\\\\n",
       " 0 & 0 & 0 & 0 & 0 & 1 & 0 & 0  \\\\\n",
       " 0 & 0 & 0 & 0 & 0 & 0 & 1 & 0  \\\\\n",
       " 0 & 0 & 0 & 1 & 0 & 0 & 0 & 0  \\\\\n",
       " \\end{bmatrix}\n",
       "$$"
      ],
      "text/plain": [
       "<IPython.core.display.Latex object>"
      ]
     },
     "metadata": {},
     "output_type": "display_data"
    }
   ],
   "source": [
    "# Toffoli Gate / Controlled-Controlled NOT Gate\n",
    "# Performs X on the target qubit only if both the control qubits are |1>\n",
    "\n",
    "qc = QuantumCircuit(3)\n",
    "a = 0\n",
    "b = 1\n",
    "target = 2\n",
    "qc.ccx(a,b,target)\n",
    "\n",
    "display(qc.draw())\n",
    "usim = Aer.get_backend('aer_simulator')\n",
    "qc.save_unitary()\n",
    "\n",
    "qobj = assemble(qc)\n",
    "unitary = usim.run(qobj).result().get_unitary()\n",
    "display(array_to_latex(unitary, prefix=\"\\\\text{Circuit = }\\n\"))"
   ]
  },
  {
   "cell_type": "code",
   "execution_count": 34,
   "metadata": {},
   "outputs": [
    {
     "data": {
      "text/html": [
       "<pre style=\"word-wrap: normal;white-space: pre;background: #fff0;line-height: 1.1;font-family: &quot;Courier New&quot;,Courier,monospace\">                                     \n",
       "q_0: ─────────■────────────■───■─────\n",
       "            ┌─┴─┐        ┌─┴─┐ │     \n",
       "q_1: ─■─────┤ X ├─■──────┤ X ├─┼─────\n",
       "      │P(π) └───┘ │P(-π) └───┘ │P(π) \n",
       "q_2: ─■───────────■────────────■─────\n",
       "                                     </pre>"
      ],
      "text/plain": [
       "                                     \n",
       "q_0: ─────────■────────────■───■─────\n",
       "            ┌─┴─┐        ┌─┴─┐ │     \n",
       "q_1: ─■─────┤ X ├─■──────┤ X ├─┼─────\n",
       "      │P(π) └───┘ │P(-π) └───┘ │P(π) \n",
       "q_2: ─■───────────■────────────■─────\n",
       "                                     "
      ]
     },
     "execution_count": 34,
     "metadata": {},
     "output_type": "execute_result"
    }
   ],
   "source": [
    "# Controlled-Controlled-U Gate for any arbitrary single qubit rotation\n",
    "# We need to obtain V = root(U), and then obtain V_dag\n",
    "# Then obtain Controlled-V and Controlled-V_dag, and using these 2, create the Controlled-Controlled-U\n",
    "\n",
    "# Using the controlled-phase gate as controlled-V for now\n",
    "qc = QuantumCircuit(3)\n",
    "a = 0\n",
    "b = 1\n",
    "target = 2\n",
    "\n",
    "qc.cp(theta, b, target)\n",
    "qc.cx(a,b)\n",
    "qc.cp(-theta, b, target)\n",
    "qc.cx(a,b)\n",
    "qc.cp(theta, a, target)\n",
    "qc.draw()"
   ]
  },
  {
   "cell_type": "markdown",
   "metadata": {},
   "source": [
    "```\n",
    "The U gate is applied if and only if both the control qubits are 1\n",
    "```"
   ]
  },
  {
   "cell_type": "code",
   "execution_count": 38,
   "metadata": {},
   "outputs": [
    {
     "data": {
      "text/html": [
       "<pre style=\"word-wrap: normal;white-space: pre;background: #fff0;line-height: 1.1;font-family: &quot;Courier New&quot;,Courier,monospace\">                                                  ░                    ┌───┐ »\n",
       "q_0: ───────────────────■─────────────────────■───░────────────────■───┤ T ├─»\n",
       "                        │                     │   ░ ┌───┐          │   └───┘ »\n",
       "q_1: ───────■───────────┼─────────■───────────┼───░─┤ T ├──────X───┼─────────»\n",
       "     ┌───┐┌─┴─┐┌─────┐┌─┴─┐┌───┐┌─┴─┐┌─────┐┌─┴─┐ ░ ├───┤┌───┐ │ ┌─┴─┐┌─────┐»\n",
       "q_2: ┤ H ├┤ X ├┤ Tdg ├┤ X ├┤ T ├┤ X ├┤ Tdg ├┤ X ├─░─┤ T ├┤ H ├─X─┤ X ├┤ Tdg ├»\n",
       "     └───┘└───┘└─────┘└───┘└───┘└───┘└─────┘└───┘ ░ └───┘└───┘   └───┘└─────┘»\n",
       "«             \n",
       "«q_0: ──■─────\n",
       "«       │     \n",
       "«q_1: ──┼───X─\n",
       "«     ┌─┴─┐ │ \n",
       "«q_2: ┤ X ├─X─\n",
       "«     └───┘   </pre>"
      ],
      "text/plain": [
       "                                                  ░                    ┌───┐ »\n",
       "q_0: ───────────────────■─────────────────────■───░────────────────■───┤ T ├─»\n",
       "                        │                     │   ░ ┌───┐          │   └───┘ »\n",
       "q_1: ───────■───────────┼─────────■───────────┼───░─┤ T ├──────X───┼─────────»\n",
       "     ┌───┐┌─┴─┐┌─────┐┌─┴─┐┌───┐┌─┴─┐┌─────┐┌─┴─┐ ░ ├───┤┌───┐ │ ┌─┴─┐┌─────┐»\n",
       "q_2: ┤ H ├┤ X ├┤ Tdg ├┤ X ├┤ T ├┤ X ├┤ Tdg ├┤ X ├─░─┤ T ├┤ H ├─X─┤ X ├┤ Tdg ├»\n",
       "     └───┘└───┘└─────┘└───┘└───┘└───┘└─────┘└───┘ ░ └───┘└───┘   └───┘└─────┘»\n",
       "«             \n",
       "«q_0: ──■─────\n",
       "«       │     \n",
       "«q_1: ──┼───X─\n",
       "«     ┌─┴─┐ │ \n",
       "«q_2: ┤ X ├─X─\n",
       "«     └───┘   "
      ]
     },
     "metadata": {},
     "output_type": "display_data"
    },
    {
     "data": {
      "text/latex": [
       "$$\n",
       "\\text{Circuit = }\n",
       "\n",
       "\\begin{bmatrix}\n",
       "1 & 0 & 0 & 0 & 0 & 0 & 0 & 0  \\\\\n",
       " 0 & 1 & 0 & 0 & 0 & 0 & 0 & 0  \\\\\n",
       " 0 & 0 & 1 & 0 & 0 & 0 & 0 & 0  \\\\\n",
       " 0 & 0 & 0 & 0 & 0 & 0 & 0 & 1  \\\\\n",
       " 0 & 0 & 0 & 0 & 1 & 0 & 0 & 0  \\\\\n",
       " 0 & 0 & 0 & 0 & 0 & 1 & 0 & 0  \\\\\n",
       " 0 & 0 & 0 & 0 & 0 & 0 & 1 & 0  \\\\\n",
       " 0 & 0 & 0 & 1 & 0 & 0 & 0 & 0  \\\\\n",
       " \\end{bmatrix}\n",
       "$$"
      ],
      "text/plain": [
       "<IPython.core.display.Latex object>"
      ]
     },
     "metadata": {},
     "output_type": "display_data"
    }
   ],
   "source": [
    "# Controlled-Controlled-X Gate with H, CX, T, T_dag, SWAP\n",
    "\n",
    "qc = QuantumCircuit(3)\n",
    "a = 0\n",
    "b = 1\n",
    "target = 2\n",
    "\n",
    "qc.h(target)\n",
    "qc.cx(b, target)\n",
    "qc.tdg(target)\n",
    "qc.cx(a,target)\n",
    "qc.t(target)\n",
    "qc.cx(b,target)\n",
    "qc.tdg(target)\n",
    "qc.cx(a,target)\n",
    "qc.barrier()\n",
    "qc.t(b)\n",
    "qc.t(target)\n",
    "qc.h(target)\n",
    "qc.swap(b,target)\n",
    "qc.cx(a,target)\n",
    "qc.t(a)\n",
    "qc.tdg(target)\n",
    "qc.cx(a,target)\n",
    "qc.swap(b,target)\n",
    "\n",
    "display(qc.draw())\n",
    "usim = Aer.get_backend('aer_simulator')\n",
    "qc.save_unitary()\n",
    "\n",
    "qobj = assemble(qc)\n",
    "unitary = usim.run(qobj).result().get_unitary()\n",
    "display(array_to_latex(unitary, prefix=\"\\\\text{Circuit = }\\n\"))"
   ]
  },
  {
   "cell_type": "code",
   "execution_count": 41,
   "metadata": {},
   "outputs": [
    {
     "data": {
      "text/html": [
       "<pre style=\"word-wrap: normal;white-space: pre;background: #fff0;line-height: 1.1;font-family: &quot;Courier New&quot;,Courier,monospace\">                  \n",
       "q_0: ──■───────■──\n",
       "       │       │  \n",
       "q_1: ──┼───■───┼──\n",
       "     ┌─┴─┐ │ ┌─┴─┐\n",
       "q_2: ┤ H ├─■─┤ H ├\n",
       "     └───┘   └───┘</pre>"
      ],
      "text/plain": [
       "                  \n",
       "q_0: ──■───────■──\n",
       "       │       │  \n",
       "q_1: ──┼───■───┼──\n",
       "     ┌─┴─┐ │ ┌─┴─┐\n",
       "q_2: ┤ H ├─■─┤ H ├\n",
       "     └───┘   └───┘"
      ]
     },
     "execution_count": 41,
     "metadata": {},
     "output_type": "execute_result"
    }
   ],
   "source": [
    "# Another way of implementing AND with quantum gates\n",
    "# (introduces some relative phases)\n",
    "qc = QuantumCircuit(3)\n",
    "a = 0\n",
    "b = 1\n",
    "target = 2\n",
    "\n",
    "qc.ch(a,target)\n",
    "qc.cz(b,target)\n",
    "qc.ch(a,target)\n",
    "qc.draw()"
   ]
  },
  {
   "cell_type": "markdown",
   "metadata": {},
   "source": [
    "```\n",
    "All q_0, q_1, q_2 can take only values 0 or 1\n",
    "For |q_0 q_1> (little Endian Notation = Qiskit Notation)\n",
    "|00> does not get affected                                                 \n",
    "[therefore, no observable effect]\n",
    "\n",
    "|01> applies only Z, which introduces a relative phase in the target qubit\n",
    "[therefore, no observable effect]\n",
    "\n",
    "|10> applies H, and then H again, which doesn't change the target qubit\n",
    "[therefore, no observable effect]\n",
    "\n",
    "|11> applies HZH = X, which flips the target qubit\n",
    "[target: |0> becomes |1>, |1> becomes |0>]\n",
    "```"
   ]
  },
  {
   "cell_type": "markdown",
   "metadata": {},
   "source": [
    "---\n",
    "```\n",
    "It's not possible to implement single qubit rotations by angle theta precisely\n",
    "\"There will always be a limit to the accuracy we can achieve, and it will always be larger than is tolerable when we account for the build-up of imperfections over large circuits.\"\n",
    "\n",
    "In fault tolerant systems, we use H and T\n",
    "(We can perfect H and T using error correction)\n",
    "\n",
    "T is a rotation around the z-axis by pi/4\n",
    "Therefore, T = Rz(pi/4) = e^(i * pi/8 * Z)\n",
    "\n",
    "```"
   ]
  },
  {
   "cell_type": "code",
   "execution_count": 42,
   "metadata": {},
   "outputs": [
    {
     "data": {
      "text/html": [
       "<pre style=\"word-wrap: normal;white-space: pre;background: #fff0;line-height: 1.1;font-family: &quot;Courier New&quot;,Courier,monospace\">   ┌───┐┌───┐┌───┐\n",
       "q: ┤ H ├┤ T ├┤ H ├\n",
       "   └───┘└───┘└───┘</pre>"
      ],
      "text/plain": [
       "   ┌───┐┌───┐┌───┐\n",
       "q: ┤ H ├┤ T ├┤ H ├\n",
       "   └───┘└───┘└───┘"
      ]
     },
     "execution_count": 42,
     "metadata": {},
     "output_type": "execute_result"
    }
   ],
   "source": [
    "# Making Rx(pi/4)\n",
    "qc = QuantumCircuit(1)\n",
    "qc.h(0)\n",
    "qc.t(0)\n",
    "qc.h(0)\n",
    "qc.draw()"
   ]
  },
  {
   "cell_type": "code",
   "execution_count": 43,
   "metadata": {},
   "outputs": [
    {
     "data": {
      "text/html": [
       "<pre style=\"word-wrap: normal;white-space: pre;background: #fff0;line-height: 1.1;font-family: &quot;Courier New&quot;,Courier,monospace\">   ┌───┐┌───┐┌───┐┌───┐\n",
       "q: ┤ H ├┤ T ├┤ H ├┤ T ├\n",
       "   └───┘└───┘└───┘└───┘</pre>"
      ],
      "text/plain": [
       "   ┌───┐┌───┐┌───┐┌───┐\n",
       "q: ┤ H ├┤ T ├┤ H ├┤ T ├\n",
       "   └───┘└───┘└───┘└───┘"
      ]
     },
     "execution_count": 43,
     "metadata": {},
     "output_type": "execute_result"
    }
   ],
   "source": [
    "# Gate Rz(pi/4).Rx(pi/4)\n",
    "# Apply Rx first, and then Rz\n",
    "qc = QuantumCircuit(1)\n",
    "qc.h(0)\n",
    "qc.t(0)\n",
    "qc.h(0)\n",
    "qc.t(0)\n",
    "qc.draw()"
   ]
  },
  {
   "cell_type": "markdown",
   "metadata": {},
   "source": [
    "```\n",
    "Range of angle is [0, 2*pi]\n",
    "Split this into n slices of width 2*pi/n\n",
    "For n+1 rotations, at least one slice will contain 2 angles (theta1, theta2) (by the pigeonhole principle)\n",
    "n1 = number of repetitions required for theta1\n",
    "n2 = number of repetitions required for theta2\n",
    "\n",
    "Doing n2 - n1 repetitions is the same as rotating by (theta2) and then by (-theta1)\n",
    "Angle produced by n2-n1 repetitions is theta(n2-n1)\n",
    "\n",
    "theta(n2-n1) != 0 and,\n",
    "-2*pi/n <= theta(n2-n1) <= 2*pi/n\n",
    "\n",
    "(Rotation by small angles)\n",
    "```"
   ]
  },
  {
   "cell_type": "code",
   "execution_count": 3,
   "metadata": {},
   "outputs": [
    {
     "data": {
      "text/html": [
       "<pre style=\"word-wrap: normal;white-space: pre;background: #fff0;line-height: 1.1;font-family: &quot;Courier New&quot;,Courier,monospace\">   ┌───┐┌───┐┌───┐┌───┐\n",
       "q: ┤ T ├┤ H ├┤ T ├┤ H ├\n",
       "   └───┘└───┘└───┘└───┘</pre>"
      ],
      "text/plain": [
       "   ┌───┐┌───┐┌───┐┌───┐\n",
       "q: ┤ T ├┤ H ├┤ T ├┤ H ├\n",
       "   └───┘└───┘└───┘└───┘"
      ]
     },
     "execution_count": 3,
     "metadata": {},
     "output_type": "execute_result"
    }
   ],
   "source": [
    "# For rotation around another axis,\n",
    "# Gate Rx(pi/4).Rz(pi/4)\n",
    "qc = QuantumCircuit(1)\n",
    "qc.t(0)\n",
    "qc.h(0)\n",
    "qc.t(0)\n",
    "qc.h(0)\n",
    "qc.draw()"
   ]
  },
  {
   "cell_type": "markdown",
   "metadata": {},
   "source": [
    "```\n",
    "This axis is different from the one when Rx is applied first, and then Rz is applied\n",
    "With these 2 axes, we can perform an arbitrary rotation in the bloch sphere\n",
    "Since T gates are prominent, the complexity of algorithms for fault tolerant quantum computers\n",
    "is quoted in terms of how many T gates they need\n",
    "```"
   ]
  },
  {
   "cell_type": "code",
   "execution_count": null,
   "metadata": {},
   "outputs": [],
   "source": []
  }
 ],
 "metadata": {
  "kernelspec": {
   "display_name": "venv",
   "language": "python",
   "name": "venv"
  },
  "language_info": {
   "codemirror_mode": {
    "name": "ipython",
    "version": 3
   },
   "file_extension": ".py",
   "mimetype": "text/x-python",
   "name": "python",
   "nbconvert_exporter": "python",
   "pygments_lexer": "ipython3",
   "version": "3.9.13"
  }
 },
 "nbformat": 4,
 "nbformat_minor": 4
}
