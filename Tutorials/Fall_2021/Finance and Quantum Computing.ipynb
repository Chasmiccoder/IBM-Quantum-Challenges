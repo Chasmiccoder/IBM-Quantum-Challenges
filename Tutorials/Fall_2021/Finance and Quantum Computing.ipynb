{
 "cells": [
  {
   "cell_type": "markdown",
   "id": "e8a532b0",
   "metadata": {},
   "source": [
    "## Finance and Quantum Computing\n",
    "\n",
    "---\n",
    "\n",
    "Implementing the Finance part of the lesson - https://www.youtube.com/watch?v=UtMVoGXlz04  \n",
    "Done as part of the IBM Quantum Challenge Fall 2021\n",
    "\n",
    "---\n",
    "\n",
    "### The need for Quantum Computing in Finance\n",
    "\n",
    "- Porfolio optimization of assets (to maximize the return and minimize the risk)  \n",
    "\n",
    "We can't do this classically because they are NP Hard.  \n",
    "In the near term, we can solve these with Variational Algorithms that use heuristics. With fault tolerant QCs,\n",
    "we can implement algos like Grover Adaptive Search and get a quadratic speed up.\n",
    "\n",
    "- Summation Problems like Option Pricing\n",
    "\n",
    "These problems rely on Monte Carlo simulations which converge slowly for certain functions. The Quantum Amplitude Estimation\n",
    "algorithm also provides a quadratic speedup with which we can solve this problem.\n",
    "\n",
    "---\n",
    "\n",
    "### The Qiskit Finance Module\n",
    "\n",
    "Submodules of Qiskit Finance -\n",
    "- <u>Applications</u>  \n",
    "Can help solve Optimization (like Portfolio Optimization) and Estimation problems (like European Call Option or Fixed Income Pricing).\n",
    "\n",
    "- <u>Circuits</u>  \n",
    "Helps run the relevant circuits\n",
    "\n",
    "- <u>Data Providers</u>   \n",
    "With this we can load random data / historical stock market data to test our algorithms.\n",
    "\n",
    "---\n",
    "\n",
    "### Portfolio Optimization\n",
    "\n",
    "We have a collection of assets, which is modelled by a probability distribution. We need to find a subset of these assets that maximizes our return and minimizes the risk. We can't include all the assets because some of them might have very high volatility.\n",
    "\n",
    "<u>Asset Modelling</u>  \n",
    "The assets are modelled with a multivariate probability distribution,  \n",
    "\\\\[N( \\overrightarrow{\\mu}, \\Sigma ) \\\\]\n",
    "With input vector,\n",
    "\\\\[ \\overrightarrow{X_i} = ( X_1, X_2, ..., X_j, ..., X_n )  \\\\]  \n",
    "\n",
    "<br>\n",
    "\n",
    "<p style='text-align: center;'> Here, </p>\n",
    "\\\\[\\overrightarrow{\\mu} = mean,\\ \\Sigma = covariance\\ matrix \\\\]\n",
    "\n",
    "<p style='text-align: center;'> of the multivariate normal distribution. </p>  \n",
    "<br>\n",
    "\n",
    "Each column stands for the value given to the asset in that input. The input space comprises of all possible ways we can invest in ***n*** assets.\n",
    "\n",
    "Each asset ***j*** has its own univariate normal distribution, which means that it has its own mean/expectation value  \n",
    "\\\\[ \\mu_j = E[X_j]\\\\]  \n",
    "\\\\[ where\\ all\\ X_j\\ give\\ N_j( \\mu_j, \\sigma_{jj} )\\ \\ where\\ \\sigma_{jj} = \\Sigma_{jj} \\ and \\overrightarrow{\\mu} = (\\mu_1, \\mu_2, ... \\mu_j, ..., \\mu_n) \\\\]  \n",
    "\\\\[Note: \\mu_j\\ is\\ the\\ expected\\ return\\ for\\ asset\\ j,\\ and\\ \\sigma_{jj}\\ is\\ the\\ variance\\ of\\ asset\\ j\\\\]\n",
    "\n",
    "<br>\n",
    "\n",
    "The covariance matrix tells us how an asset varies, and how change in one asset affects another.\n",
    "\n",
    "\\\\[ \\sigma_{ij}\\ is\\ the\\ covariance\\ between\\ asset\\ i\\ and\\ asset\\ j \\\\]  \n",
    "For positive covariance (and therefore, positive correlation), if asset <i>i</i> has a high value, then asset <i>j</i> also has a high value.    \n",
    "For negative covariance (negative correlation), if asset <i>i</i> has a high value, then asset <i>j</i> has a lower value.  \n",
    "Generally, if the correlation coefficient (which ranges from [-1,1]) lies within the range [-0.5,0.5] then the two variables are said to have low correlation.\n",
    "\n",
    "Our goal is to find the input vector, **x*** that maximizes the assets and minimizes the risk. Or,  \n",
    "\n",
    "\\\\[ \\overrightarrow{x*} \\ \\ \\epsilon \\ \\ argmax_{\\overrightarrow{x}\\epsilon \\{0,1\\}^n} \\ \\ (Return\\_of\\_assets(\\overrightarrow{x}) - q . Risk\\_in\\_assets(\\overrightarrow{x})) \\\\]  \n",
    "Where ***q*** is the risk factor/risk appetite of the investor.\n",
    "**x** is a binary vector where 0 represents not investing, and 1 represents investing into that asset.  \n",
    "\n",
    "There are different ways of quantifying risk. We'll define it as the variance of the joint distribution.  \n",
    "The asset vector we want is now given by,  \n",
    "\\\\[ \\overrightarrow{x*} \\ \\ \\epsilon \\ argmax_{\\overrightarrow{x}} \\ \\ (\\ E[\\overrightarrow{x}^T.\\overrightarrow{X}]\\ -\\ q. Var[\\overrightarrow{x}^T.\\overrightarrow{X}] \\ ) \\\\]  \n",
    "\n",
    "If the distribution is a normal distribution, the above equation can be written as,\n",
    "\\\\[ \\overrightarrow{x*} \\ \\ \\epsilon \\ argmax_{\\overrightarrow{x}} \\ \\ (\\ \\overrightarrow{x}^T.\\overrightarrow{\\mu}\\ -\\ q.\n",
    "\\overrightarrow{x}^T \\Sigma \\overrightarrow{x} \\ ) \\\\]\n",
    "\n",
    "**X** is the total input space. Here, <i>sigma</i> is the covariance matrix and <i>T</i> is the transpose of a matrix.\n",
    "The component on the right hand side of the minus sign shows that we're trying to solve a quadratic program.\n",
    "\n",
    "---\n"
   ]
  },
  {
   "cell_type": "code",
   "execution_count": 1,
   "id": "1faf23e0",
   "metadata": {},
   "outputs": [
    {
     "name": "stdout",
     "output_type": "stream",
     "text": [
      "Quadratic Program -\n",
      "====================\n",
      "Number of Assets:  3\n",
      "Mean return of all assets:\n",
      " [2.5 4.2 1. ]\n",
      "\n",
      "Variance-Covariance Matrix:\n",
      " [[ 1.   0.  -1. ]\n",
      " [ 0.   1.   0.7]\n",
      " [-1.   0.7  1. ]]\n",
      "\n",
      "Budget:  2\n",
      "Risk Factor:  0.7\n",
      "\n",
      "Process Complete!\n"
     ]
    }
   ],
   "source": [
    "\"\"\"\n",
    "Quadratic Program Formulation\n",
    "\"\"\"\n",
    "\n",
    "import numpy as np\n",
    "\n",
    "n = 3\n",
    "mu    = np.array([2.5,4.2,1.0])\n",
    "sigma = np.array([[1,0,-1],\n",
    "                  [0,1,0.7],\n",
    "                  [-1,0.7,1]])\n",
    "\n",
    "# number of assets we can choose\n",
    "budget = 2 \n",
    "\n",
    "# typically lies between \n",
    "risk_factor = 0.7 \n",
    "\n",
    "print(\"Quadratic Program -\\n====================\")\n",
    "print(\"Number of Assets: \", n)\n",
    "print(\"Mean return of all assets:\\n\", mu)\n",
    "print(\"\\nVariance-Covariance Matrix:\\n\", sigma)\n",
    "print(\"\\nBudget: \", budget)\n",
    "print(\"Risk Factor: \", risk_factor)\n",
    "\n",
    "print(\"\\nProcess Complete!\")"
   ]
  },
  {
   "cell_type": "code",
   "execution_count": 2,
   "id": "6daa3e59",
   "metadata": {},
   "outputs": [
    {
     "name": "stdout",
     "output_type": "stream",
     "text": [
      "\\ This file has been generated by DOcplex\n",
      "\\ ENCODING=ISO-8859-1\n",
      "\\Problem name: Portfolio optimization\n",
      "\n",
      "Minimize\n",
      " obj: - 2.500000000000 x_0 - 4.200000000000 x_1 - x_2 + [ 1.400000000000 x_0^2\n",
      "      - 2.800000000000 x_0*x_2 + 1.400000000000 x_1^2 + 1.960000000000 x_1*x_2\n",
      "      + 1.400000000000 x_2^2 ]/2\n",
      "Subject To\n",
      " c0: x_0 + x_1 + x_2 = 2\n",
      "\n",
      "Bounds\n",
      " 0 <= x_0 <= 1\n",
      " 0 <= x_1 <= 1\n",
      " 0 <= x_2 <= 1\n",
      "\n",
      "Binaries\n",
      " x_0 x_1 x_2\n",
      "End\n",
      "\n",
      "Process Complete!\n"
     ]
    }
   ],
   "source": [
    "from qiskit_finance.applications.optimization import PortfolioOptimization\n",
    "\n",
    "popt = PortfolioOptimization(expected_returns=mu, covariances=sigma, risk_factor=risk_factor, budget=budget)\n",
    "\n",
    "qp = popt.to_quadratic_program()\n",
    "print(qp)\n",
    "\n",
    "print(\"Process Complete!\")"
   ]
  },
  {
   "cell_type": "code",
   "execution_count": 3,
   "id": "7964a1a5",
   "metadata": {},
   "outputs": [
    {
     "name": "stdout",
     "output_type": "stream",
     "text": [
      "optimal function value: -5.300000000000001\n",
      "optimal value: [1. 1. 0.]\n",
      "status: SUCCESS\n",
      "Process Complete!\n"
     ]
    }
   ],
   "source": [
    "# Solving it first with a Classical Algorithm\n",
    "# It will work fast in this case since the state space is small\n",
    "\n",
    "from qiskit_optimization.algorithms import CplexOptimizer\n",
    "\n",
    "cplex_optimizer = CplexOptimizer()\n",
    "cplex_result = cplex_optimizer.solve(qp)\n",
    "\n",
    "print(cplex_result)\n",
    "print(\"Process Complete!\")"
   ]
  },
  {
   "cell_type": "markdown",
   "id": "ce5c7c93",
   "metadata": {},
   "source": [
    "---\n",
    "\n",
    "### Variational Quantum Eigensolver\n",
    "\n",
    "The Goal is to find ground state psi of the Hamiltonian H  \n",
    "The idea is to choose model phi(theta) that can approximate psi and minimize energy\n",
    "\n",
    "\\\\[ \\theta * = argmin_{\\theta}E(\\theta) = argmin_{\\theta} <\\phi(\\theta)| H |\\phi(\\theta)>  \\\\]\n",
    "\n",
    "\n",
    "There will be a feedback loop between a Quantum Processor and a Classical Processor. The classical processor suggests new\n",
    "input parameters, while the quantum processor uses these input parameters to evaluate the hamiltonian which is classically hard to solve.\n",
    "\n",
    "With special H, we can solve quadratic unconstrained binary optimizations (QUBOs)\n",
    "Basically, this quadratic program can be reformulated to a Ground State Search problem. The quadratic program is set to find the minimum value of the objective function. The input vectors which contain 0's and 1's get mapped to spin variables. Then, the Pauli Z operator is applied to all these spin variables. Then, we get the Hamiltonian whose ground state is the same as the optimal solution. \n",
    "\n",
    "So, if our answer was column vector [0,1,0,0] then it would get converted to [1,-1,1,1] in the first step. After the second step, we would get,  \n",
    "\\\\[ |\\psi> = |\\uparrow\\downarrow\\uparrow\\uparrow> \\\\]  \n",
    "\n",
    "\n",
    "\n",
    "\n",
    "\n",
    "(Short screenshot snippet on this)\n",
    "\n",
    "---\n",
    "\n",
    "### Solving the Quadratic Program with the VQE\n",
    "\n",
    "The mean, covariance matrix, risk factor, etc. first get fed into the PortfolioOptimzation function. Then, the Quadratic Program is modelled. The quadratic program is passed on to the Minimum Eigen Optimizer, which converts the program to a hamiltonian. Then, the quantum algorithm subroutine (VQE) finds the ground state of this hamiltonian, which gives us the final result.\n",
    "\n",
    "\n",
    "---\n"
   ]
  },
  {
   "cell_type": "code",
   "execution_count": 4,
   "id": "8f1ee4a8",
   "metadata": {},
   "outputs": [
    {
     "data": {
      "image/png": "[encoded data removed]",
      "text/plain": [
       "<Figure size 628.397x204.68 with 1 Axes>"
      ]
     },
     "execution_count": 4,
     "metadata": {},
     "output_type": "execute_result"
    }
   ],
   "source": [
    "from qiskit import Aer\n",
    "from qiskit.circuit.library import RealAmplitudes # model |phi(theta)>\n",
    "\n",
    "\"\"\"\n",
    "This circuit can produce states whose amplitudes are real. This is because our Hamiltonian is diagonal \n",
    "and its ground state will have only real amplitudes. Not using one that supports complex values to \n",
    "reduce the degrees of freedom of states which is easier to optimize\n",
    "\"\"\"\n",
    "\n",
    "sim = Aer.get_backend('qasm_simulator')\n",
    "\n",
    "ansatz = RealAmplitudes(3, reps=2)\n",
    "ansatz.decompose().draw('mpl', style='iqx')"
   ]
  },
  {
   "cell_type": "code",
   "execution_count": 5,
   "id": "864cd9ce",
   "metadata": {},
   "outputs": [
    {
     "name": "stdout",
     "output_type": "stream",
     "text": [
      "optimal function value: -5.300000000000001\n",
      "optimal value: [1. 1. 0.]\n",
      "status: SUCCESS\n",
      "Process Complete!\n"
     ]
    },
    {
     "data": {
      "text/plain": [
       "'\\nWe get the same result as the classical aLgorithm\\nThe performance strongly depends on the variational form and classical optimizer\\n'"
      ]
     },
     "execution_count": 5,
     "metadata": {},
     "output_type": "execute_result"
    }
   ],
   "source": [
    "from qiskit.algorithms import VQE\n",
    "from qiskit.algorithms.optimizers import SLSQP   # Stochastic Optimizer\n",
    "from qiskit_optimization.algorithms import MinimumEigenOptimizer\n",
    "\n",
    "vqe = VQE(ansatz, optimizer=SLSQP(), quantum_instance=sim)\n",
    "vqe_optimizer = MinimumEigenOptimizer(vqe)\n",
    "\n",
    "# The MinimumEigenOptimizer internally maps our quadratic program to an Ising Hamiltonian,\n",
    "# along with the reverse mapping as well\n",
    "vqe_result = vqe_optimizer.solve(qp)\n",
    "print(vqe_result)\n",
    "print(\"Process Complete!\")\n",
    "\n",
    "\"\"\"\n",
    "We get the same result as the classical aLgorithm\n",
    "The performance strongly depends on the variational form and classical optimizer\n",
    "\"\"\""
   ]
  },
  {
   "cell_type": "code",
   "execution_count": 6,
   "id": "d78846a6",
   "metadata": {},
   "outputs": [
    {
     "ename": "SyntaxError",
     "evalue": "invalid syntax (<ipython-input-6-17703067c107>, line 16)",
     "output_type": "error",
     "traceback": [
      "\u001b[1;36m  File \u001b[1;32m\"<ipython-input-6-17703067c107>\"\u001b[1;36m, line \u001b[1;32m16\u001b[0m\n\u001b[1;33m    provider = # ...\u001b[0m\n\u001b[1;37m               ^\u001b[0m\n\u001b[1;31mSyntaxError\u001b[0m\u001b[1;31m:\u001b[0m invalid syntax\n"
     ]
    }
   ],
   "source": [
    "\"\"\"\n",
    "Running it on a real QC\n",
    "\n",
    "With the Qiskit Runtime environment we can speed up iterative algorithms like the VQE\n",
    "\n",
    "[phase this better]\n",
    "Originally, you would have to create a job locally and send it to IBM cloud.\n",
    "The job would then go to the quantum backends, wait for its turn and get executed. This result is then sent back to the \n",
    "cloud and then to your local system.\n",
    "\n",
    "Instead of doing that, Qiskit allows you to send the entire algorithm to the cloud, which will get queued up and executed.\n",
    "\n",
    "\"\"\"\n",
    "from qiskit_optimization.runtime import VQEProgram # VQEProgram will soon be called VQEClient\n",
    "\n",
    "provider = # ...\n",
    "backend = # ... set this up as normal\n",
    "\n",
    "vqe = VQEProgram(anstaz, optimize=SLSQP(), provider=provider, backend=backend)\n",
    "vqe_optimizer = MinimumEigenOptimizer(vqe)\n",
    "\n",
    "vqe_result = vqe_optimizer.solve(qp)\n",
    "print(vqe_result)\n",
    "print(\"Process Complete\")\n",
    "\n",
    "# 53 minutes"
   ]
  },
  {
   "cell_type": "markdown",
   "id": "dd0d4d5a",
   "metadata": {},
   "source": [
    "---\n",
    "\n",
    "### Option Pricing\n",
    "\n",
    "A Financial Option is the right to buy or sell an asset for a certain price in a certain time window.\n",
    "The Option Pricing model is used to evaluate equity value to securities.  \n",
    "The European Call Option is one such type. You have one single asset, and in a fixed maturity time T, you can buy the asset for a fixed price K. The price of the asset after time T is called the Spot Price.\n",
    "\n",
    "The question we want to solve is - is it worth it? What is our expected payoff? We can solve this using the Payoff Function, which tells us the gain we can get. It does this using the Spot Price and the Strike Price. If the price of the asset is below the Strike Price, then the asset lost its value. If you buy the asset for the Strike Price, K, then we would have bought the asset under the market value.  \n",
    "\n",
    "We want to calculate the payoff, which, in this example, is the expectation of the following piecewise linear function.  \n",
    "\\\\[ payoff\\  =\\  E[\\ max(S_r - K, O)\\ ] \\\\]\n",
    "\n",
    "We can solve this using Monte Carlo Estimation, where we take a large number of samples, and then average it. This gives us the estimate of the expected value. The error of the Monte Carlo estimation converges to 1/sqrt(N) where N is the number of samples (or mu). This algo is too slow for complicated functions.  \n",
    "\n",
    "---\n",
    "\n",
    "### Quantum Amplitude Estimation\n",
    "\n",
    "This algorithm helps us solve the Option Pricing problem in much lesser time.  \n",
    "\n",
    "Given an operator A,  \n",
    "\\\\[ |\\psi>\\ =\\ A |0>\\ =\\ \\sqrt{1 - a}\\ |\\psi_0> + \\sqrt{a}\\ |\\psi_1>   \\\\]\n",
    "\n",
    "State psi_0 is the 'bad' state, while state psi_1 is the 'good' state. We want to find the probability of measuring the good state (which is <i>a</i>)  \n",
    "\\\\[ a\\ =\\ |<\\psi_1|\\psi_1>|^2 \\\\]\n",
    "\n",
    "You can solve this by converting operator A to operator Q, whose eigenvalues depend on the amplitude <i>a</i>  \n",
    "Since this is a Unitary Operator, the eigenvalue will be a complex phase, which can be estimated with the phase estimation algorithm. From the estimated phase we can recover the required amplitude.  \n",
    "Amplitude Estimation has a much better convergence (quadratic speedup), which is 1/M, where M is the number of samples.  \n",
    "\n",
    "Can we write the amplitude <i>a</i> as the expectation of some function?  \n",
    "If we can do this, then we can obtain the quadratic speedup. The following definiton of expectation is used,\n",
    "\\\\[ a\\ =\\ E[\\ f(x)\\ ]\\ =\\ \\int_{x}^{} f(x).p(x)\\,dx\\ =\\ \\sum_{i=1}^{M} f(x_i).p(x_i) \\\\]\n",
    "\n",
    "The structure of our A operator is as follows,  \n",
    "\\\\[ A|0>\\ =\\ \\sum_{i} \\sqrt{p(x_i)}\\ \\big(\\sqrt{1-f(x_i)}\\ |x_i>|0> + \\sqrt{f(x_i)}\\ |x_i>|1>\\big) \\\\]\n",
    "The root(p(x_i)) part is the probability distribution of our assets. The root(1-f(x_i)) and root(f(x_i)) part is the payoff function (for this problem, is the above piecewise linear function).  \n",
    "\n",
    "The circuit has 2 main blocks. The first block loads the probability distribution, while the second block implements the payoff function.\n",
    "\n",
    "---\n",
    "\n"
   ]
  },
  {
   "cell_type": "code",
   "execution_count": 7,
   "id": "13b9d669",
   "metadata": {},
   "outputs": [
    {
     "name": "stdout",
     "output_type": "stream",
     "text": [
      "Process Complete!\n"
     ]
    },
    {
     "name": "stderr",
     "output_type": "stream",
     "text": [
      "<ipython-input-7-fa68f9cebb1d>:33: DeprecationWarning: `LogNormalDistribution` is deprecated as of version 0.17.0 and will be removed no earlier than 3 months after the release date. It moved to qiskit_finance.circuit.library.LogNormalDistribution.\n",
      "  distribution = LogNormalDistribution(num_uncertainty_qubits, mu=mu, sigma=sigma**2, bounds=(low,high))\n"
     ]
    }
   ],
   "source": [
    "from qiskit_finance.circuit.library import EuropeanCallPricingObjective # F\n",
    "from qiskit.circuit.library import LogNormalDistribution # Probability Distribution\n",
    "\n",
    "\"\"\"\n",
    "The accuracy of this approximation depends on the approximation of the integral, which depends on the number of qubits we\n",
    "use to represent the probability distribution (3 in this case)\n",
    "\"\"\"\n",
    "\n",
    "num_uncertainty_qubits = 3\n",
    "\n",
    "\"\"\"\n",
    "Using the Black-Scholes model to analytically compute the probability distribution of an asset at time T.\n",
    "\"\"\"\n",
    "\n",
    "strike_price = 1.896 # Price that we've agreed upon\n",
    "T = 40 / 365         # 40 days to mature\n",
    "\n",
    "S   = 2.0            # Initial Spot Price\n",
    "vol = 0.4            # Volatility of 40%\n",
    "r   = 0.05           # Annual Interest rate of 4%\n",
    "\n",
    "# Resulting parameters for log-normal distribution\n",
    "mu = ( (r - 0.5 * vol ** 2) * T + np.log(S) )\n",
    "sigma = vol * np.sqrt(T)\n",
    "mean = np.exp(mu+sigma**2/2)\n",
    "variance = (np.exp(sigma**2) - 1) * (2 * mu + sigma**2)\n",
    "stddev = np.sqrt(variance)\n",
    "\n",
    "# Lowest and Highest value considered for spot price. In between, an equidistant discretization is considered\n",
    "low = np.maximum(0, mean-3*stddev)\n",
    "high = mean + 3 * stddev\n",
    "\n",
    "distribution = LogNormalDistribution(num_uncertainty_qubits, mu=mu, sigma=sigma**2, bounds=(low,high))\n",
    "\n",
    "print(\"Process Complete!\")"
   ]
  },
  {
   "cell_type": "markdown",
   "id": "989ac7fe",
   "metadata": {},
   "source": [
    "---\n",
    "\n",
    "### Eurpoean Call Option\n",
    "\n",
    "Now we can define our European Call Option. The probability distribution gets created using the maturity date and the asset model. The distribution and the strike price form the European Call Pricing. This gives us the Estimation Problem, which can be solved by our Amplitude Estimation algorithm. The algorithm solves the quadratic program and gives us the result.\n",
    "\n",
    "---"
   ]
  },
  {
   "cell_type": "code",
   "execution_count": 8,
   "id": "a2059b86",
   "metadata": {},
   "outputs": [
    {
     "data": {
      "image/png": "[encoded data removed]",
      "text/plain": [
       "<Figure size 206.997x445.48 with 1 Axes>"
      ]
     },
     "execution_count": 8,
     "metadata": {},
     "output_type": "execute_result"
    }
   ],
   "source": [
    "from qiskit_finance.applications import EuropeanCallPricing\n",
    "\n",
    "european_call_pricing = EuropeanCallPricing(num_state_qubits  = num_uncertainty_qubits, \n",
    "                                            strike_price      = strike_price,\n",
    "                                            rescaling_factor  = 0.25, # approximation constant for payoff function\n",
    "                                            bounds            = (low,high),\n",
    "                                            uncertainty_model = distribution)\n",
    "\n",
    "problem = european_call_pricing.to_estimation_problem()\n",
    "\n",
    "problem.state_preparation.draw('mpl', style='iqx')"
   ]
  },
  {
   "cell_type": "code",
   "execution_count": 9,
   "id": "ddf27e19",
   "metadata": {},
   "outputs": [
    {
     "name": "stdout",
     "output_type": "stream",
     "text": [
      "Estimated Value:  0.15853296900121114\n",
      "Confidence Inverval:  (0.14596956859822036, 0.17109636940420184)\n",
      "Process Complete!\n"
     ]
    }
   ],
   "source": [
    "# Iterative Amplitude Estimation is one of the fastest\n",
    "from qiskit.algorithms import IterativeAmplitudeEstimation\n",
    "\n",
    "epsilon = 0.01\n",
    "alpha   = 0.05\n",
    "\n",
    "ae = IterativeAmplitudeEstimation(epsilon, alpha=alpha, quantum_instance=sim)\n",
    "\n",
    "result = ae.estimate(problem)\n",
    "\n",
    "print(\"Estimated Value: \", result.estimation_processed)                 # 0.1585\n",
    "print(\"Confidence Inverval: \", result.confidence_interval_processed)    # 0.1459, 0.1711\n",
    "\n",
    "# This means that we can expect a payoff of 0.15 dollars\n",
    "# We can say with 95% probability that the payoff lies in the interval  (0.1459, 0.1711)\n",
    "\n",
    "print(\"Process Complete!\")"
   ]
  },
  {
   "cell_type": "markdown",
   "id": "8c1127a5",
   "metadata": {},
   "source": [
    "---\n",
    "\n",
    "The European Call Option can be solved classically, but there are many options like American Options, Path Dependent Options or Autocallables which are difficult to solve classically. With Quantum Computers we can hope to solve these problems efficiently. \n",
    "\n",
    "---\n",
    "\n",
    "### Conclusion\n",
    "\n",
    "In this notebook, we've explored 2 possible applications of Quantum Computers. One is for optimization problems like Portfolio Optimization\n",
    "\n",
    "[write summary later]\n",
    "\n",
    "\n",
    "---"
   ]
  },
  {
   "cell_type": "code",
   "execution_count": null,
   "id": "41f8afed",
   "metadata": {},
   "outputs": [],
   "source": []
  },
  {
   "cell_type": "markdown",
   "id": "073ba13c",
   "metadata": {},
   "source": [
    "To Do:\n",
    "* Give a short note on the finance stuff\n",
    "* Short note on the hamiltonian\n",
    "* Photo screenshot snippets from YT video\n",
    "* Write note on how you can play with various distributions and see which suits the problem best\n"
   ]
  },
  {
   "cell_type": "code",
   "execution_count": null,
   "id": "70385dd2",
   "metadata": {},
   "outputs": [],
   "source": []
  }
 ],
 "metadata": {
  "kernelspec": {
   "display_name": "Python 3",
   "language": "python",
   "name": "python3"
  },
  "language_info": {
   "codemirror_mode": {
    "name": "ipython",
    "version": 3
   },
   "file_extension": ".py",
   "mimetype": "text/x-python",
   "name": "python",
   "nbconvert_exporter": "python",
   "pygments_lexer": "ipython3",
   "version": "3.8.8"
  }
 },
 "nbformat": 4,
 "nbformat_minor": 5
}
